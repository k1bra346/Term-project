{
  "nbformat": 4,
  "nbformat_minor": 0,
  "metadata": {
    "colab": {
      "provenance": []
    },
    "kernelspec": {
      "name": "python3",
      "display_name": "Python 3"
    },
    "language_info": {
      "name": "python"
    }
  },
  "cells": [
    {
      "cell_type": "code",
      "execution_count": null,
      "metadata": {
        "id": "jcznoRVda-lM"
      },
      "outputs": [],
      "source": [
        "import pandas as pd\n",
        "import numpy as np"
      ]
    },
    {
      "cell_type": "code",
      "source": [
        "from sklearn.preprocessing import LabelEncoder\n",
        "import seaborn as sns\n",
        "import matplotlib.pyplot as plt"
      ],
      "metadata": {
        "id": "TCtiO5FN9qlv"
      },
      "execution_count": null,
      "outputs": []
    },
    {
      "cell_type": "code",
      "source": [
        "from statsmodels.stats.outliers_influence import variance_inflation_factor"
      ],
      "metadata": {
        "id": "gAItr-8G_Mhz"
      },
      "execution_count": null,
      "outputs": []
    },
    {
      "cell_type": "code",
      "source": [
        "from scipy.stats import shapiro"
      ],
      "metadata": {
        "id": "4dqgv0YB_jAp"
      },
      "execution_count": null,
      "outputs": []
    },
    {
      "cell_type": "code",
      "source": [
        "df = pd.read_csv('/content/drive/MyDrive/MIS220/train.csv', header=None)\n",
        "\n",
        "# Create a list of column names\n",
        "column_names = ['Column_' + str(i) for i in range(1, 123)]\n",
        "\n",
        "# Assign column names to the dataset\n",
        "df.columns = column_names"
      ],
      "metadata": {
        "id": "9T25ewE9VwP9"
      },
      "execution_count": null,
      "outputs": []
    },
    {
      "cell_type": "code",
      "source": [
        "corr_matrix = df.corr()\n",
        "target_column = 'Column_122'\n",
        "\n",
        "# Get the correlation values for the target column\n",
        "correlations = corr_matrix[target_column]\n",
        "\n",
        "# Sort the correlations in descending order\n",
        "sorted_correlations = correlations.sort_values(ascending=False)\n",
        "\n",
        "# Print the columns with the highest correlation (excluding the target column itself)\n",
        "highest_correlated_columns = sorted_correlations.drop(target_column).index\n",
        "\n",
        "# Print the result\n",
        "print(\"Highest correlated columns to column '{}':\".format(target_column))\n",
        "print(highest_correlated_columns)"
      ],
      "metadata": {
        "colab": {
          "base_uri": "https://localhost:8080/"
        },
        "id": "BOa_xzP65OQ0",
        "outputId": "caddc93e-b7d0-4748-fc07-61b0e168da10"
      },
      "execution_count": null,
      "outputs": [
        {
          "output_type": "stream",
          "name": "stderr",
          "text": [
            "<ipython-input-161-c8abeb808672>:1: FutureWarning: The default value of numeric_only in DataFrame.corr is deprecated. In a future version, it will default to False. Select only valid columns or specify the value of numeric_only to silence this warning.\n",
            "  corr_matrix = df.corr()\n"
          ]
        },
        {
          "output_type": "stream",
          "name": "stdout",
          "text": [
            "Highest correlated columns to column 'Column_122':\n",
            "Index(['Column_71', 'Column_10', 'Column_38', 'Column_86', 'Column_72',\n",
            "       'Column_114', 'Column_105', 'Column_99', 'Column_65', 'Column_64',\n",
            "       ...\n",
            "       'Column_52', 'Column_54', 'Column_14', 'Column_40', 'Column_85',\n",
            "       'Column_120', 'Column_2', 'Column_87', 'Column_26', 'Column_59'],\n",
            "      dtype='object', length=105)\n"
          ]
        }
      ]
    },
    {
      "cell_type": "markdown",
      "source": [],
      "metadata": {
        "id": "U5eVCvDV43xV"
      }
    },
    {
      "cell_type": "code",
      "source": [
        "pd.set_option('display.max_columns', None)"
      ],
      "metadata": {
        "id": "xFlDTFNlXXTA"
      },
      "execution_count": null,
      "outputs": []
    },
    {
      "cell_type": "code",
      "source": [
        "pd.set_option('display.max_rows', None)"
      ],
      "metadata": {
        "id": "QOvg8j2oa4CI"
      },
      "execution_count": null,
      "outputs": []
    },
    {
      "cell_type": "code",
      "source": [
        "df.shape"
      ],
      "metadata": {
        "colab": {
          "base_uri": "https://localhost:8080/"
        },
        "id": "vMUPEggK-84G",
        "outputId": "afb02ee8-099a-4785-8ff5-010c797a1cc5"
      },
      "execution_count": null,
      "outputs": [
        {
          "output_type": "execute_result",
          "data": {
            "text/plain": [
              "(246008, 53)"
            ]
          },
          "metadata": {},
          "execution_count": 113
        }
      ]
    },
    {
      "cell_type": "code",
      "source": [
        "df.head()\n"
      ],
      "metadata": {
        "colab": {
          "base_uri": "https://localhost:8080/",
          "height": 270
        },
        "id": "8PS2E9IPdrmo",
        "outputId": "0fd79f50-3a73-410d-fca1-480f33ba8197"
      },
      "execution_count": null,
      "outputs": [
        {
          "output_type": "execute_result",
          "data": {
            "text/plain": [
              "   Column_1  Column_2  Column_6  Column_7  Column_10  Column_13  Column_14  \\\n",
              "0     69769      -946         0         4          2        0.0   180000.0   \n",
              "1    236977       -92         1        30          3        0.0   135000.0   \n",
              "2    168821     -1646         0         5          2        0.0   553500.0   \n",
              "3     94708     -1651         0         5          2        0.0   391500.0   \n",
              "4     84556      -977         0        35          2        0.0   225000.0   \n",
              "\n",
              "   Column_15  Column_17  Column_21  Column_25  Column_26  Column_28  \\\n",
              "0          0          6          0          0   0.289573        0.0   \n",
              "1          2          6          0          0   0.514261        2.0   \n",
              "2          0          5          1          0   0.486906        1.0   \n",
              "3          0          6          1          0   0.675705        2.0   \n",
              "4          2          6          0          0   0.154565        0.0   \n",
              "\n",
              "   Column_30  Column_31  Column_32  Column_35  Column_40  Column_41  \\\n",
              "0          0          1          1        0.0     0.3333    13189.5   \n",
              "1          0          1          1        0.0     0.1667    13095.0   \n",
              "2          0          7          1        0.0     0.3750    26307.0   \n",
              "3          0          1          1        0.0     0.0417    34636.5   \n",
              "4          0          1          1        0.0     0.1667    27558.0   \n",
              "\n",
              "   Column_42  Column_45  Column_46  Column_48  Column_53  Column_54  \\\n",
              "0         10          8        1.0          0          0   0.008230   \n",
              "1         13          4        0.0          1          0   0.003069   \n",
              "2          5          8        0.0          1          0   0.020713   \n",
              "3         10          8        0.0          0          0   0.011703   \n",
              "4          5          0        0.0          1          0   0.006629   \n",
              "\n",
              "   Column_56  Column_58  Column_59  Column_63  Column_64  Column_65  \\\n",
              "0          0    90000.0   0.622922          0    -6378.0          1   \n",
              "1          0    90000.0   0.546023          0    -1292.0          1   \n",
              "2          0   135000.0   0.598926          0    -7951.0          1   \n",
              "3          0   135000.0   0.454321          0    -1033.0          1   \n",
              "4          0   180000.0   0.546023          0    -2873.0          1   \n",
              "\n",
              "   Column_68  Column_70  Column_71  Column_72  Column_73  Column_74  \\\n",
              "0          1        0.0     -12298          0        0.0          2   \n",
              "1          4        1.0     -15375          1        0.0          0   \n",
              "2          4        1.0     -19307          0        0.0          0   \n",
              "3          4        1.0     -17791          0        0.0          0   \n",
              "4          2        0.0      -8486          0        0.0          0   \n",
              "\n",
              "   Column_81  Column_82  Column_84  Column_86  Column_90  Column_94  \\\n",
              "0     0.9851          0        0.0        0.0     0.2197          6   \n",
              "1     0.9821          0        0.0     -509.0     0.0691          5   \n",
              "2     0.9891          0        1.0    -1474.0     0.1269          5   \n",
              "3     0.9682          0        0.0    -2016.0     0.0065          5   \n",
              "4     0.9821          0        0.0     -695.0     0.0691          1   \n",
              "\n",
              "   Column_99  Column_104  Column_105  Column_107  Column_109  Column_113  \\\n",
              "0          0           0           1           0           0         1.0   \n",
              "1          0           0           1           0           0         1.0   \n",
              "2          0           0           1           0           0         2.0   \n",
              "3          0           0           1           0           0         4.0   \n",
              "4          0           0           1           0           0         1.0   \n",
              "\n",
              "   Column_114  Column_118  Column_121  Column_122  \n",
              "0       -4670           1           0           0  \n",
              "1       -1994           1           0           0  \n",
              "2       -2842           3           0           1  \n",
              "3       -1345           3           0           1  \n",
              "4        -852           3           0           0  "
            ],
            "text/html": [
              "\n",
              "  <div id=\"df-f6cd0c98-5f44-48fe-b4fa-82065409eb25\">\n",
              "    <div class=\"colab-df-container\">\n",
              "      <div>\n",
              "<style scoped>\n",
              "    .dataframe tbody tr th:only-of-type {\n",
              "        vertical-align: middle;\n",
              "    }\n",
              "\n",
              "    .dataframe tbody tr th {\n",
              "        vertical-align: top;\n",
              "    }\n",
              "\n",
              "    .dataframe thead th {\n",
              "        text-align: right;\n",
              "    }\n",
              "</style>\n",
              "<table border=\"1\" class=\"dataframe\">\n",
              "  <thead>\n",
              "    <tr style=\"text-align: right;\">\n",
              "      <th></th>\n",
              "      <th>Column_1</th>\n",
              "      <th>Column_2</th>\n",
              "      <th>Column_6</th>\n",
              "      <th>Column_7</th>\n",
              "      <th>Column_10</th>\n",
              "      <th>Column_13</th>\n",
              "      <th>Column_14</th>\n",
              "      <th>Column_15</th>\n",
              "      <th>Column_17</th>\n",
              "      <th>Column_21</th>\n",
              "      <th>Column_25</th>\n",
              "      <th>Column_26</th>\n",
              "      <th>Column_28</th>\n",
              "      <th>Column_30</th>\n",
              "      <th>Column_31</th>\n",
              "      <th>Column_32</th>\n",
              "      <th>Column_35</th>\n",
              "      <th>Column_40</th>\n",
              "      <th>Column_41</th>\n",
              "      <th>Column_42</th>\n",
              "      <th>Column_45</th>\n",
              "      <th>Column_46</th>\n",
              "      <th>Column_48</th>\n",
              "      <th>Column_53</th>\n",
              "      <th>Column_54</th>\n",
              "      <th>Column_56</th>\n",
              "      <th>Column_58</th>\n",
              "      <th>Column_59</th>\n",
              "      <th>Column_63</th>\n",
              "      <th>Column_64</th>\n",
              "      <th>Column_65</th>\n",
              "      <th>Column_68</th>\n",
              "      <th>Column_70</th>\n",
              "      <th>Column_71</th>\n",
              "      <th>Column_72</th>\n",
              "      <th>Column_73</th>\n",
              "      <th>Column_74</th>\n",
              "      <th>Column_81</th>\n",
              "      <th>Column_82</th>\n",
              "      <th>Column_84</th>\n",
              "      <th>Column_86</th>\n",
              "      <th>Column_90</th>\n",
              "      <th>Column_94</th>\n",
              "      <th>Column_99</th>\n",
              "      <th>Column_104</th>\n",
              "      <th>Column_105</th>\n",
              "      <th>Column_107</th>\n",
              "      <th>Column_109</th>\n",
              "      <th>Column_113</th>\n",
              "      <th>Column_114</th>\n",
              "      <th>Column_118</th>\n",
              "      <th>Column_121</th>\n",
              "      <th>Column_122</th>\n",
              "    </tr>\n",
              "  </thead>\n",
              "  <tbody>\n",
              "    <tr>\n",
              "      <th>0</th>\n",
              "      <td>69769</td>\n",
              "      <td>-946</td>\n",
              "      <td>0</td>\n",
              "      <td>4</td>\n",
              "      <td>2</td>\n",
              "      <td>0.0</td>\n",
              "      <td>180000.0</td>\n",
              "      <td>0</td>\n",
              "      <td>6</td>\n",
              "      <td>0</td>\n",
              "      <td>0</td>\n",
              "      <td>0.289573</td>\n",
              "      <td>0.0</td>\n",
              "      <td>0</td>\n",
              "      <td>1</td>\n",
              "      <td>1</td>\n",
              "      <td>0.0</td>\n",
              "      <td>0.3333</td>\n",
              "      <td>13189.5</td>\n",
              "      <td>10</td>\n",
              "      <td>8</td>\n",
              "      <td>1.0</td>\n",
              "      <td>0</td>\n",
              "      <td>0</td>\n",
              "      <td>0.008230</td>\n",
              "      <td>0</td>\n",
              "      <td>90000.0</td>\n",
              "      <td>0.622922</td>\n",
              "      <td>0</td>\n",
              "      <td>-6378.0</td>\n",
              "      <td>1</td>\n",
              "      <td>1</td>\n",
              "      <td>0.0</td>\n",
              "      <td>-12298</td>\n",
              "      <td>0</td>\n",
              "      <td>0.0</td>\n",
              "      <td>2</td>\n",
              "      <td>0.9851</td>\n",
              "      <td>0</td>\n",
              "      <td>0.0</td>\n",
              "      <td>0.0</td>\n",
              "      <td>0.2197</td>\n",
              "      <td>6</td>\n",
              "      <td>0</td>\n",
              "      <td>0</td>\n",
              "      <td>1</td>\n",
              "      <td>0</td>\n",
              "      <td>0</td>\n",
              "      <td>1.0</td>\n",
              "      <td>-4670</td>\n",
              "      <td>1</td>\n",
              "      <td>0</td>\n",
              "      <td>0</td>\n",
              "    </tr>\n",
              "    <tr>\n",
              "      <th>1</th>\n",
              "      <td>236977</td>\n",
              "      <td>-92</td>\n",
              "      <td>1</td>\n",
              "      <td>30</td>\n",
              "      <td>3</td>\n",
              "      <td>0.0</td>\n",
              "      <td>135000.0</td>\n",
              "      <td>2</td>\n",
              "      <td>6</td>\n",
              "      <td>0</td>\n",
              "      <td>0</td>\n",
              "      <td>0.514261</td>\n",
              "      <td>2.0</td>\n",
              "      <td>0</td>\n",
              "      <td>1</td>\n",
              "      <td>1</td>\n",
              "      <td>0.0</td>\n",
              "      <td>0.1667</td>\n",
              "      <td>13095.0</td>\n",
              "      <td>13</td>\n",
              "      <td>4</td>\n",
              "      <td>0.0</td>\n",
              "      <td>1</td>\n",
              "      <td>0</td>\n",
              "      <td>0.003069</td>\n",
              "      <td>0</td>\n",
              "      <td>90000.0</td>\n",
              "      <td>0.546023</td>\n",
              "      <td>0</td>\n",
              "      <td>-1292.0</td>\n",
              "      <td>1</td>\n",
              "      <td>4</td>\n",
              "      <td>1.0</td>\n",
              "      <td>-15375</td>\n",
              "      <td>1</td>\n",
              "      <td>0.0</td>\n",
              "      <td>0</td>\n",
              "      <td>0.9821</td>\n",
              "      <td>0</td>\n",
              "      <td>0.0</td>\n",
              "      <td>-509.0</td>\n",
              "      <td>0.0691</td>\n",
              "      <td>5</td>\n",
              "      <td>0</td>\n",
              "      <td>0</td>\n",
              "      <td>1</td>\n",
              "      <td>0</td>\n",
              "      <td>0</td>\n",
              "      <td>1.0</td>\n",
              "      <td>-1994</td>\n",
              "      <td>1</td>\n",
              "      <td>0</td>\n",
              "      <td>0</td>\n",
              "    </tr>\n",
              "    <tr>\n",
              "      <th>2</th>\n",
              "      <td>168821</td>\n",
              "      <td>-1646</td>\n",
              "      <td>0</td>\n",
              "      <td>5</td>\n",
              "      <td>2</td>\n",
              "      <td>0.0</td>\n",
              "      <td>553500.0</td>\n",
              "      <td>0</td>\n",
              "      <td>5</td>\n",
              "      <td>1</td>\n",
              "      <td>0</td>\n",
              "      <td>0.486906</td>\n",
              "      <td>1.0</td>\n",
              "      <td>0</td>\n",
              "      <td>7</td>\n",
              "      <td>1</td>\n",
              "      <td>0.0</td>\n",
              "      <td>0.3750</td>\n",
              "      <td>26307.0</td>\n",
              "      <td>5</td>\n",
              "      <td>8</td>\n",
              "      <td>0.0</td>\n",
              "      <td>1</td>\n",
              "      <td>0</td>\n",
              "      <td>0.020713</td>\n",
              "      <td>0</td>\n",
              "      <td>135000.0</td>\n",
              "      <td>0.598926</td>\n",
              "      <td>0</td>\n",
              "      <td>-7951.0</td>\n",
              "      <td>1</td>\n",
              "      <td>4</td>\n",
              "      <td>1.0</td>\n",
              "      <td>-19307</td>\n",
              "      <td>0</td>\n",
              "      <td>0.0</td>\n",
              "      <td>0</td>\n",
              "      <td>0.9891</td>\n",
              "      <td>0</td>\n",
              "      <td>1.0</td>\n",
              "      <td>-1474.0</td>\n",
              "      <td>0.1269</td>\n",
              "      <td>5</td>\n",
              "      <td>0</td>\n",
              "      <td>0</td>\n",
              "      <td>1</td>\n",
              "      <td>0</td>\n",
              "      <td>0</td>\n",
              "      <td>2.0</td>\n",
              "      <td>-2842</td>\n",
              "      <td>3</td>\n",
              "      <td>0</td>\n",
              "      <td>1</td>\n",
              "    </tr>\n",
              "    <tr>\n",
              "      <th>3</th>\n",
              "      <td>94708</td>\n",
              "      <td>-1651</td>\n",
              "      <td>0</td>\n",
              "      <td>5</td>\n",
              "      <td>2</td>\n",
              "      <td>0.0</td>\n",
              "      <td>391500.0</td>\n",
              "      <td>0</td>\n",
              "      <td>6</td>\n",
              "      <td>1</td>\n",
              "      <td>0</td>\n",
              "      <td>0.675705</td>\n",
              "      <td>2.0</td>\n",
              "      <td>0</td>\n",
              "      <td>1</td>\n",
              "      <td>1</td>\n",
              "      <td>0.0</td>\n",
              "      <td>0.0417</td>\n",
              "      <td>34636.5</td>\n",
              "      <td>10</td>\n",
              "      <td>8</td>\n",
              "      <td>0.0</td>\n",
              "      <td>0</td>\n",
              "      <td>0</td>\n",
              "      <td>0.011703</td>\n",
              "      <td>0</td>\n",
              "      <td>135000.0</td>\n",
              "      <td>0.454321</td>\n",
              "      <td>0</td>\n",
              "      <td>-1033.0</td>\n",
              "      <td>1</td>\n",
              "      <td>4</td>\n",
              "      <td>1.0</td>\n",
              "      <td>-17791</td>\n",
              "      <td>0</td>\n",
              "      <td>0.0</td>\n",
              "      <td>0</td>\n",
              "      <td>0.9682</td>\n",
              "      <td>0</td>\n",
              "      <td>0.0</td>\n",
              "      <td>-2016.0</td>\n",
              "      <td>0.0065</td>\n",
              "      <td>5</td>\n",
              "      <td>0</td>\n",
              "      <td>0</td>\n",
              "      <td>1</td>\n",
              "      <td>0</td>\n",
              "      <td>0</td>\n",
              "      <td>4.0</td>\n",
              "      <td>-1345</td>\n",
              "      <td>3</td>\n",
              "      <td>0</td>\n",
              "      <td>1</td>\n",
              "    </tr>\n",
              "    <tr>\n",
              "      <th>4</th>\n",
              "      <td>84556</td>\n",
              "      <td>-977</td>\n",
              "      <td>0</td>\n",
              "      <td>35</td>\n",
              "      <td>2</td>\n",
              "      <td>0.0</td>\n",
              "      <td>225000.0</td>\n",
              "      <td>2</td>\n",
              "      <td>6</td>\n",
              "      <td>0</td>\n",
              "      <td>0</td>\n",
              "      <td>0.154565</td>\n",
              "      <td>0.0</td>\n",
              "      <td>0</td>\n",
              "      <td>1</td>\n",
              "      <td>1</td>\n",
              "      <td>0.0</td>\n",
              "      <td>0.1667</td>\n",
              "      <td>27558.0</td>\n",
              "      <td>5</td>\n",
              "      <td>0</td>\n",
              "      <td>0.0</td>\n",
              "      <td>1</td>\n",
              "      <td>0</td>\n",
              "      <td>0.006629</td>\n",
              "      <td>0</td>\n",
              "      <td>180000.0</td>\n",
              "      <td>0.546023</td>\n",
              "      <td>0</td>\n",
              "      <td>-2873.0</td>\n",
              "      <td>1</td>\n",
              "      <td>2</td>\n",
              "      <td>0.0</td>\n",
              "      <td>-8486</td>\n",
              "      <td>0</td>\n",
              "      <td>0.0</td>\n",
              "      <td>0</td>\n",
              "      <td>0.9821</td>\n",
              "      <td>0</td>\n",
              "      <td>0.0</td>\n",
              "      <td>-695.0</td>\n",
              "      <td>0.0691</td>\n",
              "      <td>1</td>\n",
              "      <td>0</td>\n",
              "      <td>0</td>\n",
              "      <td>1</td>\n",
              "      <td>0</td>\n",
              "      <td>0</td>\n",
              "      <td>1.0</td>\n",
              "      <td>-852</td>\n",
              "      <td>3</td>\n",
              "      <td>0</td>\n",
              "      <td>0</td>\n",
              "    </tr>\n",
              "  </tbody>\n",
              "</table>\n",
              "</div>\n",
              "      <button class=\"colab-df-convert\" onclick=\"convertToInteractive('df-f6cd0c98-5f44-48fe-b4fa-82065409eb25')\"\n",
              "              title=\"Convert this dataframe to an interactive table.\"\n",
              "              style=\"display:none;\">\n",
              "        \n",
              "  <svg xmlns=\"http://www.w3.org/2000/svg\" height=\"24px\"viewBox=\"0 0 24 24\"\n",
              "       width=\"24px\">\n",
              "    <path d=\"M0 0h24v24H0V0z\" fill=\"none\"/>\n",
              "    <path d=\"M18.56 5.44l.94 2.06.94-2.06 2.06-.94-2.06-.94-.94-2.06-.94 2.06-2.06.94zm-11 1L8.5 8.5l.94-2.06 2.06-.94-2.06-.94L8.5 2.5l-.94 2.06-2.06.94zm10 10l.94 2.06.94-2.06 2.06-.94-2.06-.94-.94-2.06-.94 2.06-2.06.94z\"/><path d=\"M17.41 7.96l-1.37-1.37c-.4-.4-.92-.59-1.43-.59-.52 0-1.04.2-1.43.59L10.3 9.45l-7.72 7.72c-.78.78-.78 2.05 0 2.83L4 21.41c.39.39.9.59 1.41.59.51 0 1.02-.2 1.41-.59l7.78-7.78 2.81-2.81c.8-.78.8-2.07 0-2.86zM5.41 20L4 18.59l7.72-7.72 1.47 1.35L5.41 20z\"/>\n",
              "  </svg>\n",
              "      </button>\n",
              "      \n",
              "  <style>\n",
              "    .colab-df-container {\n",
              "      display:flex;\n",
              "      flex-wrap:wrap;\n",
              "      gap: 12px;\n",
              "    }\n",
              "\n",
              "    .colab-df-convert {\n",
              "      background-color: #E8F0FE;\n",
              "      border: none;\n",
              "      border-radius: 50%;\n",
              "      cursor: pointer;\n",
              "      display: none;\n",
              "      fill: #1967D2;\n",
              "      height: 32px;\n",
              "      padding: 0 0 0 0;\n",
              "      width: 32px;\n",
              "    }\n",
              "\n",
              "    .colab-df-convert:hover {\n",
              "      background-color: #E2EBFA;\n",
              "      box-shadow: 0px 1px 2px rgba(60, 64, 67, 0.3), 0px 1px 3px 1px rgba(60, 64, 67, 0.15);\n",
              "      fill: #174EA6;\n",
              "    }\n",
              "\n",
              "    [theme=dark] .colab-df-convert {\n",
              "      background-color: #3B4455;\n",
              "      fill: #D2E3FC;\n",
              "    }\n",
              "\n",
              "    [theme=dark] .colab-df-convert:hover {\n",
              "      background-color: #434B5C;\n",
              "      box-shadow: 0px 1px 3px 1px rgba(0, 0, 0, 0.15);\n",
              "      filter: drop-shadow(0px 1px 2px rgba(0, 0, 0, 0.3));\n",
              "      fill: #FFFFFF;\n",
              "    }\n",
              "  </style>\n",
              "\n",
              "      <script>\n",
              "        const buttonEl =\n",
              "          document.querySelector('#df-f6cd0c98-5f44-48fe-b4fa-82065409eb25 button.colab-df-convert');\n",
              "        buttonEl.style.display =\n",
              "          google.colab.kernel.accessAllowed ? 'block' : 'none';\n",
              "\n",
              "        async function convertToInteractive(key) {\n",
              "          const element = document.querySelector('#df-f6cd0c98-5f44-48fe-b4fa-82065409eb25');\n",
              "          const dataTable =\n",
              "            await google.colab.kernel.invokeFunction('convertToInteractive',\n",
              "                                                     [key], {});\n",
              "          if (!dataTable) return;\n",
              "\n",
              "          const docLinkHtml = 'Like what you see? Visit the ' +\n",
              "            '<a target=\"_blank\" href=https://colab.research.google.com/notebooks/data_table.ipynb>data table notebook</a>'\n",
              "            + ' to learn more about interactive tables.';\n",
              "          element.innerHTML = '';\n",
              "          dataTable['output_type'] = 'display_data';\n",
              "          await google.colab.output.renderOutput(dataTable, element);\n",
              "          const docLink = document.createElement('div');\n",
              "          docLink.innerHTML = docLinkHtml;\n",
              "          element.appendChild(docLink);\n",
              "        }\n",
              "      </script>\n",
              "    </div>\n",
              "  </div>\n",
              "  "
            ]
          },
          "metadata": {},
          "execution_count": 112
        }
      ]
    },
    {
      "cell_type": "code",
      "source": [
        "threshold = 0.50\n",
        "num_missing = df.isnull().sum()\n",
        "pct_missing = num_missing / len(df)\n",
        "to_drop = list(pct_missing[pct_missing > threshold].index)\n",
        "df.drop(to_drop, axis=1, inplace=True)"
      ],
      "metadata": {
        "id": "-GdgyxfJTjQP"
      },
      "execution_count": null,
      "outputs": []
    },
    {
      "cell_type": "code",
      "source": [
        "# get data types of each column\n",
        "dtypes = df.dtypes\n",
        "\n",
        "# create 3 groups based on data types\n",
        "continuous = []\n",
        "binary = []\n",
        "categorical = []\n",
        "label = []\n",
        "\n",
        "for col in df.columns:\n",
        "    unique_values = df[col].unique()\n",
        "    if len(unique_values) == 2 and set(unique_values) <= set([0, 1]):\n",
        "        binary.append(col)\n",
        "    elif dtypes[col] == object:\n",
        "        categorical.append(col)\n",
        "    else:\n",
        "        continuous.append(col)\n",
        "\n",
        "\n",
        "binary.remove(\"Column_122\")\n",
        "label.append(\"Column_122\")"
      ],
      "metadata": {
        "id": "BWTun5cb9IGr"
      },
      "execution_count": null,
      "outputs": []
    },
    {
      "cell_type": "code",
      "source": [
        "# print the 3 groups and their lengths\n",
        "print(\"Continuous variables:\", len(continuous), continuous)\n",
        "print(\"Binary variables:\", len(binary), binary)\n",
        "print(\"Categorical variables:\", len(categorical), categorical)\n",
        "print(\"Label:\", len(label), label)"
      ],
      "metadata": {
        "colab": {
          "base_uri": "https://localhost:8080/"
        },
        "id": "aqPcVVs39kCs",
        "outputId": "9c2cb8d5-3c28-4adb-8a27-02aa430ce739"
      },
      "execution_count": null,
      "outputs": [
        {
          "output_type": "stream",
          "name": "stdout",
          "text": [
            "Continuous variables: 28 ['Column_1', 'Column_2', 'Column_10', 'Column_13', 'Column_14', 'Column_26', 'Column_28', 'Column_35', 'Column_36', 'Column_38', 'Column_41', 'Column_42', 'Column_46', 'Column_54', 'Column_58', 'Column_59', 'Column_64', 'Column_67', 'Column_71', 'Column_73', 'Column_74', 'Column_84', 'Column_86', 'Column_91', 'Column_100', 'Column_113', 'Column_114', 'Column_119']\n",
            "Binary variables: 32 ['Column_9', 'Column_16', 'Column_20', 'Column_21', 'Column_24', 'Column_25', 'Column_27', 'Column_29', 'Column_30', 'Column_34', 'Column_43', 'Column_47', 'Column_51', 'Column_53', 'Column_56', 'Column_63', 'Column_65', 'Column_66', 'Column_72', 'Column_76', 'Column_77', 'Column_82', 'Column_95', 'Column_98', 'Column_99', 'Column_101', 'Column_105', 'Column_106', 'Column_107', 'Column_109', 'Column_117', 'Column_121']\n",
            "Categorical variables: 11 ['Column_6', 'Column_7', 'Column_17', 'Column_31', 'Column_32', 'Column_48', 'Column_68', 'Column_70', 'Column_94', 'Column_104', 'Column_118']\n",
            "Label: 1 ['Column_122']\n"
          ]
        }
      ]
    },
    {
      "cell_type": "code",
      "source": [
        "# create a label encoder object\n",
        "le = LabelEncoder()\n",
        "\n",
        "# loop through each categorical variable and encode it\n",
        "for col in categorical:\n",
        "    df[col] = le.fit_transform(df[col])\n",
        "\n",
        "# move any variables with only two possible values to the binary group\n",
        "for col in categorical:\n",
        "    if len(df[col].unique()) == 2:\n",
        "        categorical.remove(col)\n",
        "        binary.append(col)"
      ],
      "metadata": {
        "id": "mxldHw5s93C2"
      },
      "execution_count": null,
      "outputs": []
    },
    {
      "cell_type": "code",
      "source": [
        "df['Column_34'].value_counts().sort_index()"
      ],
      "metadata": {
        "colab": {
          "base_uri": "https://localhost:8080/"
        },
        "id": "c6LPLAkt9l_S",
        "outputId": "b1363d38-a83d-4868-b46d-3d0934707ca7"
      },
      "execution_count": null,
      "outputs": [
        {
          "output_type": "execute_result",
          "data": {
            "text/plain": [
              "0         1\n",
              "1    246007\n",
              "Name: Column_34, dtype: int64"
            ]
          },
          "metadata": {},
          "execution_count": 12
        }
      ]
    },
    {
      "cell_type": "code",
      "source": [
        "# print the 3 groups and their lengths\n",
        "print(\"Continuous variables:\", len(continuous), continuous)\n",
        "print(\"Binary variables:\", len(binary), binary)\n",
        "print(\"Categorical variables:\", len(categorical), categorical)"
      ],
      "metadata": {
        "colab": {
          "base_uri": "https://localhost:8080/"
        },
        "id": "kOYNvQEv96GD",
        "outputId": "e04cb946-d8c7-4143-d815-2709d3e917a1"
      },
      "execution_count": null,
      "outputs": [
        {
          "output_type": "stream",
          "name": "stdout",
          "text": [
            "Continuous variables: 28 ['Column_1', 'Column_2', 'Column_10', 'Column_13', 'Column_14', 'Column_26', 'Column_28', 'Column_35', 'Column_36', 'Column_38', 'Column_41', 'Column_42', 'Column_46', 'Column_54', 'Column_58', 'Column_59', 'Column_64', 'Column_67', 'Column_71', 'Column_73', 'Column_74', 'Column_84', 'Column_86', 'Column_91', 'Column_100', 'Column_113', 'Column_114', 'Column_119']\n",
            "Binary variables: 16 ['Column_21', 'Column_25', 'Column_29', 'Column_30', 'Column_51', 'Column_53', 'Column_56', 'Column_63', 'Column_65', 'Column_72', 'Column_82', 'Column_99', 'Column_105', 'Column_107', 'Column_109', 'Column_121']\n",
            "Categorical variables: 11 ['Column_6', 'Column_7', 'Column_17', 'Column_31', 'Column_32', 'Column_48', 'Column_68', 'Column_70', 'Column_94', 'Column_104', 'Column_118']\n"
          ]
        }
      ]
    },
    {
      "cell_type": "code",
      "source": [
        "# Fill missing values in numerical columns with median of their respective groups\n",
        "df[continuous] = df.groupby(\"Column_122\")[continuous].apply(lambda x: x.fillna(x.median()))\n",
        "\n",
        "# Fill missing values in categorical columns with mode of their respective groups\n",
        "df[binary] = df.groupby(\"Column_122\")[binary].apply(lambda x: x.fillna(x.mode().iloc[0]))\n",
        "df[categorical] = df.groupby(\"Column_122\")[categorical].apply(lambda x: x.fillna(x.mode().iloc[0]))"
      ],
      "metadata": {
        "colab": {
          "base_uri": "https://localhost:8080/"
        },
        "id": "8ScVTjCY9_2-",
        "outputId": "14f595d1-76bc-4ef4-a4fa-829c2f8babd2"
      },
      "execution_count": null,
      "outputs": [
        {
          "output_type": "stream",
          "name": "stderr",
          "text": [
            "<ipython-input-29-f262e2603e3c>:2: FutureWarning: Not prepending group keys to the result index of transform-like apply. In the future, the group keys will be included in the index, regardless of whether the applied function returns a like-indexed object.\n",
            "To preserve the previous behavior, use\n",
            "\n",
            "\t>>> .groupby(..., group_keys=False)\n",
            "\n",
            "To adopt the future behavior and silence this warning, use \n",
            "\n",
            "\t>>> .groupby(..., group_keys=True)\n",
            "  df[continuous] = df.groupby(\"Column_122\")[continuous].apply(lambda x: x.fillna(x.median()))\n",
            "<ipython-input-29-f262e2603e3c>:5: FutureWarning: Not prepending group keys to the result index of transform-like apply. In the future, the group keys will be included in the index, regardless of whether the applied function returns a like-indexed object.\n",
            "To preserve the previous behavior, use\n",
            "\n",
            "\t>>> .groupby(..., group_keys=False)\n",
            "\n",
            "To adopt the future behavior and silence this warning, use \n",
            "\n",
            "\t>>> .groupby(..., group_keys=True)\n",
            "  df[binary] = df.groupby(\"Column_122\")[binary].apply(lambda x: x.fillna(x.mode().iloc[0]))\n",
            "<ipython-input-29-f262e2603e3c>:6: FutureWarning: Not prepending group keys to the result index of transform-like apply. In the future, the group keys will be included in the index, regardless of whether the applied function returns a like-indexed object.\n",
            "To preserve the previous behavior, use\n",
            "\n",
            "\t>>> .groupby(..., group_keys=False)\n",
            "\n",
            "To adopt the future behavior and silence this warning, use \n",
            "\n",
            "\t>>> .groupby(..., group_keys=True)\n",
            "  df[categorical] = df.groupby(\"Column_122\")[categorical].apply(lambda x: x.fillna(x.mode().iloc[0]))\n"
          ]
        }
      ]
    },
    {
      "cell_type": "code",
      "source": [
        "df.isnull().sum().sum()"
      ],
      "metadata": {
        "colab": {
          "base_uri": "https://localhost:8080/"
        },
        "id": "oP9BuiGn-LL_",
        "outputId": "c9e6f228-d1fd-4873-e8cd-9e869dc90add"
      },
      "execution_count": null,
      "outputs": [
        {
          "output_type": "execute_result",
          "data": {
            "text/plain": [
              "0"
            ]
          },
          "metadata": {},
          "execution_count": 68
        }
      ]
    },
    {
      "cell_type": "code",
      "source": [
        "# Calculate the correlation matrix\n",
        "corr_matrix = df.corr().round(2)\n",
        "\n",
        "# Filter the matrix to show only the values that meet the condition\n",
        "corr_filtered = corr_matrix[(corr_matrix > 0.80) | (corr_matrix < -0.80)]"
      ],
      "metadata": {
        "id": "Sx3ZRA7y-jRu"
      },
      "execution_count": null,
      "outputs": []
    },
    {
      "cell_type": "code",
      "source": [
        "# Plot the filtered correlation matrix using seaborn's heatmap\n",
        "sns.heatmap(corr_filtered, annot=True)\n",
        "plt.show()"
      ],
      "metadata": {
        "colab": {
          "base_uri": "https://localhost:8080/",
          "height": 508
        },
        "id": "JyTwFdMk-muP",
        "outputId": "288c0681-cd4f-41cd-8bfc-e9649c0559b9"
      },
      "execution_count": null,
      "outputs": [
        {
          "output_type": "display_data",
          "data": {
            "text/plain": [
              "<Figure size 640x480 with 2 Axes>"
            ],
            "image/png": "[encoded data removed]"
          },
          "metadata": {}
        }
      ]
    },
    {
      "cell_type": "code",
      "source": [
        "# Identify highly correlated feature pairs based on the threshold\n",
        "high_corr_pairs = []\n",
        "threshold = 0.8\n",
        "for i in range(len(df.columns)):\n",
        "    for j in range(i+1, len(df.columns)):\n",
        "        if corr_matrix.iloc[i,j] >= threshold:\n",
        "            high_corr_pairs.append((df.columns[i], df.columns[j]))"
      ],
      "metadata": {
        "id": "lPdRWwhr-39K"
      },
      "execution_count": null,
      "outputs": []
    },
    {
      "cell_type": "code",
      "source": [
        "high_corr_pairs"
      ],
      "metadata": {
        "colab": {
          "base_uri": "https://localhost:8080/"
        },
        "id": "viqgx2C_-9Q2",
        "outputId": "da101f6c-88aa-47e1-e4d2-3ed1b8adb44e"
      },
      "execution_count": null,
      "outputs": [
        {
          "output_type": "execute_result",
          "data": {
            "text/plain": [
              "[('Column_10', 'Column_38'),\n",
              " ('Column_14', 'Column_67'),\n",
              " ('Column_28', 'Column_36'),\n",
              " ('Column_29', 'Column_53'),\n",
              " ('Column_51', 'Column_72'),\n",
              " ('Column_73', 'Column_119'),\n",
              " ('Column_74', 'Column_100')]"
            ]
          },
          "metadata": {},
          "execution_count": 15
        }
      ]
    },
    {
      "cell_type": "code",
      "source": [
        "# Drop one feature from each highly correlated pair with priority given to continuous features\n",
        "for pair in high_corr_pairs:\n",
        "    if pair[0] in df.columns and pair[1] in df.columns:\n",
        "        if pair[0] in continuous:\n",
        "            df = df.drop(pair[1], axis=1)\n",
        "        elif pair[1] in continuous:\n",
        "            df = df.drop(pair[0], axis=1)\n",
        "        else:\n",
        "            vif_pair_0 = variance_inflation_factor(df.values, df.columns.get_loc(pair[0]))\n",
        "            vif_pair_1 = variance_inflation_factor(df.values, df.columns.get_loc(pair[1]))\n",
        "            if vif_pair_0 >= vif_pair_1:\n",
        "                df = df.drop(pair[1], axis=1)\n",
        "            else:\n",
        "                df = df.drop(pair[0], axis=1)"
      ],
      "metadata": {
        "id": "3Kbkjp9V_SNY"
      },
      "execution_count": null,
      "outputs": []
    },
    {
      "cell_type": "code",
      "source": [
        "df.shape"
      ],
      "metadata": {
        "colab": {
          "base_uri": "https://localhost:8080/"
        },
        "id": "dVJaPQaT_YTo",
        "outputId": "093f4955-34b7-4e35-c5e2-ec6cb4f13b24"
      },
      "execution_count": null,
      "outputs": [
        {
          "output_type": "execute_result",
          "data": {
            "text/plain": [
              "(246008, 53)"
            ]
          },
          "metadata": {},
          "execution_count": 110
        }
      ]
    },
    {
      "cell_type": "code",
      "source": [
        "# Group the features based on the number of unique values\n",
        "continuous_feats = []\n",
        "categorical_feats = []\n",
        "binary_feats = []\n",
        "label = []\n",
        "\n",
        "for col in df.columns:\n",
        "    if df[col].nunique() == 2:\n",
        "        binary_feats.append(col)\n",
        "    elif df[col].nunique() > 30:\n",
        "        continuous_feats.append(col)\n",
        "    else:\n",
        "        categorical_feats.append(col)\n",
        "\n",
        "binary_feats.remove(\"Column_122\")\n",
        "label.append(\"Column_122\")"
      ],
      "metadata": {
        "id": "IGAmhzrY_dCC"
      },
      "execution_count": null,
      "outputs": []
    },
    {
      "cell_type": "code",
      "source": [
        "for col in continuous_feats:\n",
        "    stat, p = shapiro(df[col])\n",
        "    print(col, \"Shapiro-Wilk test: Statistics=%.3f, p-value=%.3f\" % (stat, p))\n",
        "    if p > 0.05:\n",
        "        print(col, \"is normally distributed\")\n",
        "    else:\n",
        "        print(col, \"is not normally distributed\")"
      ],
      "metadata": {
        "colab": {
          "base_uri": "https://localhost:8080/"
        },
        "id": "2XcCQKJm_qIY",
        "outputId": "85315d65-83f9-407b-d9a6-ab4f3dc070bc"
      },
      "execution_count": null,
      "outputs": [
        {
          "output_type": "stream",
          "name": "stderr",
          "text": [
            "/usr/local/lib/python3.10/dist-packages/scipy/stats/_morestats.py:1816: UserWarning: p-value may not be accurate for N > 5000.\n",
            "  warnings.warn(\"p-value may not be accurate for N > 5000.\")\n"
          ]
        },
        {
          "output_type": "stream",
          "name": "stdout",
          "text": [
            "Column_1 Shapiro-Wilk test: Statistics=0.955, p-value=0.000\n",
            "Column_1 is not normally distributed\n",
            "Column_2 Shapiro-Wilk test: Statistics=0.480, p-value=0.000\n",
            "Column_2 is not normally distributed\n",
            "Column_7 Shapiro-Wilk test: Statistics=0.856, p-value=0.000\n",
            "Column_7 is not normally distributed\n",
            "Column_14 Shapiro-Wilk test: Statistics=0.889, p-value=0.000\n",
            "Column_14 is not normally distributed\n",
            "Column_26 Shapiro-Wilk test: Statistics=0.927, p-value=0.000\n",
            "Column_26 is not normally distributed\n",
            "Column_28 Shapiro-Wilk test: Statistics=0.612, p-value=0.000\n",
            "Column_28 is not normally distributed\n",
            "Column_41 Shapiro-Wilk test: Statistics=0.911, p-value=0.000\n",
            "Column_41 is not normally distributed\n",
            "Column_54 Shapiro-Wilk test: Statistics=0.877, p-value=0.000\n",
            "Column_54 is not normally distributed\n",
            "Column_58 Shapiro-Wilk test: Statistics=0.116, p-value=0.000\n",
            "Column_58 is not normally distributed\n",
            "Column_59 Shapiro-Wilk test: Statistics=0.967, p-value=0.000\n",
            "Column_59 is not normally distributed\n",
            "Column_64 Shapiro-Wilk test: Statistics=0.954, p-value=0.000\n",
            "Column_64 is not normally distributed\n",
            "Column_71 Shapiro-Wilk test: Statistics=0.970, p-value=0.000\n",
            "Column_71 is not normally distributed\n",
            "Column_81 Shapiro-Wilk test: Statistics=0.073, p-value=0.000\n",
            "Column_81 is not normally distributed\n",
            "Column_86 Shapiro-Wilk test: Statistics=0.922, p-value=0.000\n",
            "Column_86 is not normally distributed\n",
            "Column_90 Shapiro-Wilk test: Statistics=0.585, p-value=0.000\n",
            "Column_90 is not normally distributed\n",
            "Column_114 Shapiro-Wilk test: Statistics=0.941, p-value=0.000\n",
            "Column_114 is not normally distributed\n"
          ]
        }
      ]
    },
    {
      "cell_type": "code",
      "source": [
        "num_rows = df.shape[0]\n",
        "identical_threshold = 0.995  # 99.5% threshold\n",
        "columns_to_delete = []\n",
        "\n",
        "for column in df.columns:\n",
        "    value_counts = df[column].value_counts()\n",
        "    most_common_count = value_counts.iloc[0]\n",
        "    percentage_identical = most_common_count / num_rows\n",
        "\n",
        "    if percentage_identical > identical_threshold:\n",
        "        columns_to_delete.append(column)\n",
        "\n",
        "# Delete the identified columns\n",
        "df = df.drop(columns=columns_to_delete)\n"
      ],
      "metadata": {
        "id": "tzD81smD80f2"
      },
      "execution_count": null,
      "outputs": []
    },
    {
      "cell_type": "code",
      "source": [
        "df.head()"
      ],
      "metadata": {
        "colab": {
          "base_uri": "https://localhost:8080/",
          "height": 270
        },
        "id": "Mm6cvenELH5n",
        "outputId": "e65d3971-7b05-47d4-96fe-6db5b87ef63e"
      },
      "execution_count": null,
      "outputs": [
        {
          "output_type": "execute_result",
          "data": {
            "text/plain": [
              "   Column_1  Column_2  Column_6  Column_7  Column_10  Column_13  Column_14  \\\n",
              "0     69769      -946         0         4          2        0.0   180000.0   \n",
              "1    236977       -92         1        30          3        0.0   135000.0   \n",
              "2    168821     -1646         0         5          2        0.0   553500.0   \n",
              "3     94708     -1651         0         5          2        0.0   391500.0   \n",
              "4     84556      -977         0        35          2        0.0   225000.0   \n",
              "\n",
              "   Column_15  Column_17  Column_21  Column_25  Column_26  Column_28  \\\n",
              "0          0          6          0          0   0.289573        0.0   \n",
              "1          2          6          0          0   0.514261        2.0   \n",
              "2          0          5          1          0   0.486906        1.0   \n",
              "3          0          6          1          0   0.675705        2.0   \n",
              "4          2          6          0          0   0.154565        0.0   \n",
              "\n",
              "   Column_30  Column_31  Column_32  Column_35  Column_40  Column_41  \\\n",
              "0          0          1          1        0.0     0.3333    13189.5   \n",
              "1          0          1          1        0.0     0.1667    13095.0   \n",
              "2          0          7          1        0.0     0.3750    26307.0   \n",
              "3          0          1          1        0.0     0.0417    34636.5   \n",
              "4          0          1          1        0.0     0.1667    27558.0   \n",
              "\n",
              "   Column_42  Column_45  Column_46  Column_48  Column_53  Column_54  \\\n",
              "0         10          8        1.0          0          0   0.008230   \n",
              "1         13          4        0.0          1          0   0.003069   \n",
              "2          5          8        0.0          1          0   0.020713   \n",
              "3         10          8        0.0          0          0   0.011703   \n",
              "4          5          0        0.0          1          0   0.006629   \n",
              "\n",
              "   Column_56  Column_58  Column_59  Column_63  Column_64  Column_65  \\\n",
              "0          0    90000.0   0.622922          0    -6378.0          1   \n",
              "1          0    90000.0   0.546023          0    -1292.0          1   \n",
              "2          0   135000.0   0.598926          0    -7951.0          1   \n",
              "3          0   135000.0   0.454321          0    -1033.0          1   \n",
              "4          0   180000.0   0.546023          0    -2873.0          1   \n",
              "\n",
              "   Column_68  Column_70  Column_71  Column_72  Column_73  Column_74  \\\n",
              "0          1        0.0     -12298          0        0.0          2   \n",
              "1          4        1.0     -15375          1        0.0          0   \n",
              "2          4        1.0     -19307          0        0.0          0   \n",
              "3          4        1.0     -17791          0        0.0          0   \n",
              "4          2        0.0      -8486          0        0.0          0   \n",
              "\n",
              "   Column_81  Column_82  Column_84  Column_86  Column_90  Column_94  \\\n",
              "0     0.9851          0        0.0        0.0     0.2197          6   \n",
              "1     0.9821          0        0.0     -509.0     0.0691          5   \n",
              "2     0.9891          0        1.0    -1474.0     0.1269          5   \n",
              "3     0.9682          0        0.0    -2016.0     0.0065          5   \n",
              "4     0.9821          0        0.0     -695.0     0.0691          1   \n",
              "\n",
              "   Column_99  Column_104  Column_105  Column_107  Column_109  Column_113  \\\n",
              "0          0           0           1           0           0         1.0   \n",
              "1          0           0           1           0           0         1.0   \n",
              "2          0           0           1           0           0         2.0   \n",
              "3          0           0           1           0           0         4.0   \n",
              "4          0           0           1           0           0         1.0   \n",
              "\n",
              "   Column_114  Column_118  Column_121  Column_122  \n",
              "0       -4670           1           0           0  \n",
              "1       -1994           1           0           0  \n",
              "2       -2842           3           0           1  \n",
              "3       -1345           3           0           1  \n",
              "4        -852           3           0           0  "
            ],
            "text/html": [
              "\n",
              "  <div id=\"df-16fdec11-2bf4-4491-ab09-163b922e8497\">\n",
              "    <div class=\"colab-df-container\">\n",
              "      <div>\n",
              "<style scoped>\n",
              "    .dataframe tbody tr th:only-of-type {\n",
              "        vertical-align: middle;\n",
              "    }\n",
              "\n",
              "    .dataframe tbody tr th {\n",
              "        vertical-align: top;\n",
              "    }\n",
              "\n",
              "    .dataframe thead th {\n",
              "        text-align: right;\n",
              "    }\n",
              "</style>\n",
              "<table border=\"1\" class=\"dataframe\">\n",
              "  <thead>\n",
              "    <tr style=\"text-align: right;\">\n",
              "      <th></th>\n",
              "      <th>Column_1</th>\n",
              "      <th>Column_2</th>\n",
              "      <th>Column_6</th>\n",
              "      <th>Column_7</th>\n",
              "      <th>Column_10</th>\n",
              "      <th>Column_13</th>\n",
              "      <th>Column_14</th>\n",
              "      <th>Column_15</th>\n",
              "      <th>Column_17</th>\n",
              "      <th>Column_21</th>\n",
              "      <th>Column_25</th>\n",
              "      <th>Column_26</th>\n",
              "      <th>Column_28</th>\n",
              "      <th>Column_30</th>\n",
              "      <th>Column_31</th>\n",
              "      <th>Column_32</th>\n",
              "      <th>Column_35</th>\n",
              "      <th>Column_40</th>\n",
              "      <th>Column_41</th>\n",
              "      <th>Column_42</th>\n",
              "      <th>Column_45</th>\n",
              "      <th>Column_46</th>\n",
              "      <th>Column_48</th>\n",
              "      <th>Column_53</th>\n",
              "      <th>Column_54</th>\n",
              "      <th>Column_56</th>\n",
              "      <th>Column_58</th>\n",
              "      <th>Column_59</th>\n",
              "      <th>Column_63</th>\n",
              "      <th>Column_64</th>\n",
              "      <th>Column_65</th>\n",
              "      <th>Column_68</th>\n",
              "      <th>Column_70</th>\n",
              "      <th>Column_71</th>\n",
              "      <th>Column_72</th>\n",
              "      <th>Column_73</th>\n",
              "      <th>Column_74</th>\n",
              "      <th>Column_81</th>\n",
              "      <th>Column_82</th>\n",
              "      <th>Column_84</th>\n",
              "      <th>Column_86</th>\n",
              "      <th>Column_90</th>\n",
              "      <th>Column_94</th>\n",
              "      <th>Column_99</th>\n",
              "      <th>Column_104</th>\n",
              "      <th>Column_105</th>\n",
              "      <th>Column_107</th>\n",
              "      <th>Column_109</th>\n",
              "      <th>Column_113</th>\n",
              "      <th>Column_114</th>\n",
              "      <th>Column_118</th>\n",
              "      <th>Column_121</th>\n",
              "      <th>Column_122</th>\n",
              "    </tr>\n",
              "  </thead>\n",
              "  <tbody>\n",
              "    <tr>\n",
              "      <th>0</th>\n",
              "      <td>69769</td>\n",
              "      <td>-946</td>\n",
              "      <td>0</td>\n",
              "      <td>4</td>\n",
              "      <td>2</td>\n",
              "      <td>0.0</td>\n",
              "      <td>180000.0</td>\n",
              "      <td>0</td>\n",
              "      <td>6</td>\n",
              "      <td>0</td>\n",
              "      <td>0</td>\n",
              "      <td>0.289573</td>\n",
              "      <td>0.0</td>\n",
              "      <td>0</td>\n",
              "      <td>1</td>\n",
              "      <td>1</td>\n",
              "      <td>0.0</td>\n",
              "      <td>0.3333</td>\n",
              "      <td>13189.5</td>\n",
              "      <td>10</td>\n",
              "      <td>8</td>\n",
              "      <td>1.0</td>\n",
              "      <td>0</td>\n",
              "      <td>0</td>\n",
              "      <td>0.008230</td>\n",
              "      <td>0</td>\n",
              "      <td>90000.0</td>\n",
              "      <td>0.622922</td>\n",
              "      <td>0</td>\n",
              "      <td>-6378.0</td>\n",
              "      <td>1</td>\n",
              "      <td>1</td>\n",
              "      <td>0.0</td>\n",
              "      <td>-12298</td>\n",
              "      <td>0</td>\n",
              "      <td>0.0</td>\n",
              "      <td>2</td>\n",
              "      <td>0.9851</td>\n",
              "      <td>0</td>\n",
              "      <td>0.0</td>\n",
              "      <td>0.0</td>\n",
              "      <td>0.2197</td>\n",
              "      <td>6</td>\n",
              "      <td>0</td>\n",
              "      <td>0</td>\n",
              "      <td>1</td>\n",
              "      <td>0</td>\n",
              "      <td>0</td>\n",
              "      <td>1.0</td>\n",
              "      <td>-4670</td>\n",
              "      <td>1</td>\n",
              "      <td>0</td>\n",
              "      <td>0</td>\n",
              "    </tr>\n",
              "    <tr>\n",
              "      <th>1</th>\n",
              "      <td>236977</td>\n",
              "      <td>-92</td>\n",
              "      <td>1</td>\n",
              "      <td>30</td>\n",
              "      <td>3</td>\n",
              "      <td>0.0</td>\n",
              "      <td>135000.0</td>\n",
              "      <td>2</td>\n",
              "      <td>6</td>\n",
              "      <td>0</td>\n",
              "      <td>0</td>\n",
              "      <td>0.514261</td>\n",
              "      <td>2.0</td>\n",
              "      <td>0</td>\n",
              "      <td>1</td>\n",
              "      <td>1</td>\n",
              "      <td>0.0</td>\n",
              "      <td>0.1667</td>\n",
              "      <td>13095.0</td>\n",
              "      <td>13</td>\n",
              "      <td>4</td>\n",
              "      <td>0.0</td>\n",
              "      <td>1</td>\n",
              "      <td>0</td>\n",
              "      <td>0.003069</td>\n",
              "      <td>0</td>\n",
              "      <td>90000.0</td>\n",
              "      <td>0.546023</td>\n",
              "      <td>0</td>\n",
              "      <td>-1292.0</td>\n",
              "      <td>1</td>\n",
              "      <td>4</td>\n",
              "      <td>1.0</td>\n",
              "      <td>-15375</td>\n",
              "      <td>1</td>\n",
              "      <td>0.0</td>\n",
              "      <td>0</td>\n",
              "      <td>0.9821</td>\n",
              "      <td>0</td>\n",
              "      <td>0.0</td>\n",
              "      <td>-509.0</td>\n",
              "      <td>0.0691</td>\n",
              "      <td>5</td>\n",
              "      <td>0</td>\n",
              "      <td>0</td>\n",
              "      <td>1</td>\n",
              "      <td>0</td>\n",
              "      <td>0</td>\n",
              "      <td>1.0</td>\n",
              "      <td>-1994</td>\n",
              "      <td>1</td>\n",
              "      <td>0</td>\n",
              "      <td>0</td>\n",
              "    </tr>\n",
              "    <tr>\n",
              "      <th>2</th>\n",
              "      <td>168821</td>\n",
              "      <td>-1646</td>\n",
              "      <td>0</td>\n",
              "      <td>5</td>\n",
              "      <td>2</td>\n",
              "      <td>0.0</td>\n",
              "      <td>553500.0</td>\n",
              "      <td>0</td>\n",
              "      <td>5</td>\n",
              "      <td>1</td>\n",
              "      <td>0</td>\n",
              "      <td>0.486906</td>\n",
              "      <td>1.0</td>\n",
              "      <td>0</td>\n",
              "      <td>7</td>\n",
              "      <td>1</td>\n",
              "      <td>0.0</td>\n",
              "      <td>0.3750</td>\n",
              "      <td>26307.0</td>\n",
              "      <td>5</td>\n",
              "      <td>8</td>\n",
              "      <td>0.0</td>\n",
              "      <td>1</td>\n",
              "      <td>0</td>\n",
              "      <td>0.020713</td>\n",
              "      <td>0</td>\n",
              "      <td>135000.0</td>\n",
              "      <td>0.598926</td>\n",
              "      <td>0</td>\n",
              "      <td>-7951.0</td>\n",
              "      <td>1</td>\n",
              "      <td>4</td>\n",
              "      <td>1.0</td>\n",
              "      <td>-19307</td>\n",
              "      <td>0</td>\n",
              "      <td>0.0</td>\n",
              "      <td>0</td>\n",
              "      <td>0.9891</td>\n",
              "      <td>0</td>\n",
              "      <td>1.0</td>\n",
              "      <td>-1474.0</td>\n",
              "      <td>0.1269</td>\n",
              "      <td>5</td>\n",
              "      <td>0</td>\n",
              "      <td>0</td>\n",
              "      <td>1</td>\n",
              "      <td>0</td>\n",
              "      <td>0</td>\n",
              "      <td>2.0</td>\n",
              "      <td>-2842</td>\n",
              "      <td>3</td>\n",
              "      <td>0</td>\n",
              "      <td>1</td>\n",
              "    </tr>\n",
              "    <tr>\n",
              "      <th>3</th>\n",
              "      <td>94708</td>\n",
              "      <td>-1651</td>\n",
              "      <td>0</td>\n",
              "      <td>5</td>\n",
              "      <td>2</td>\n",
              "      <td>0.0</td>\n",
              "      <td>391500.0</td>\n",
              "      <td>0</td>\n",
              "      <td>6</td>\n",
              "      <td>1</td>\n",
              "      <td>0</td>\n",
              "      <td>0.675705</td>\n",
              "      <td>2.0</td>\n",
              "      <td>0</td>\n",
              "      <td>1</td>\n",
              "      <td>1</td>\n",
              "      <td>0.0</td>\n",
              "      <td>0.0417</td>\n",
              "      <td>34636.5</td>\n",
              "      <td>10</td>\n",
              "      <td>8</td>\n",
              "      <td>0.0</td>\n",
              "      <td>0</td>\n",
              "      <td>0</td>\n",
              "      <td>0.011703</td>\n",
              "      <td>0</td>\n",
              "      <td>135000.0</td>\n",
              "      <td>0.454321</td>\n",
              "      <td>0</td>\n",
              "      <td>-1033.0</td>\n",
              "      <td>1</td>\n",
              "      <td>4</td>\n",
              "      <td>1.0</td>\n",
              "      <td>-17791</td>\n",
              "      <td>0</td>\n",
              "      <td>0.0</td>\n",
              "      <td>0</td>\n",
              "      <td>0.9682</td>\n",
              "      <td>0</td>\n",
              "      <td>0.0</td>\n",
              "      <td>-2016.0</td>\n",
              "      <td>0.0065</td>\n",
              "      <td>5</td>\n",
              "      <td>0</td>\n",
              "      <td>0</td>\n",
              "      <td>1</td>\n",
              "      <td>0</td>\n",
              "      <td>0</td>\n",
              "      <td>4.0</td>\n",
              "      <td>-1345</td>\n",
              "      <td>3</td>\n",
              "      <td>0</td>\n",
              "      <td>1</td>\n",
              "    </tr>\n",
              "    <tr>\n",
              "      <th>4</th>\n",
              "      <td>84556</td>\n",
              "      <td>-977</td>\n",
              "      <td>0</td>\n",
              "      <td>35</td>\n",
              "      <td>2</td>\n",
              "      <td>0.0</td>\n",
              "      <td>225000.0</td>\n",
              "      <td>2</td>\n",
              "      <td>6</td>\n",
              "      <td>0</td>\n",
              "      <td>0</td>\n",
              "      <td>0.154565</td>\n",
              "      <td>0.0</td>\n",
              "      <td>0</td>\n",
              "      <td>1</td>\n",
              "      <td>1</td>\n",
              "      <td>0.0</td>\n",
              "      <td>0.1667</td>\n",
              "      <td>27558.0</td>\n",
              "      <td>5</td>\n",
              "      <td>0</td>\n",
              "      <td>0.0</td>\n",
              "      <td>1</td>\n",
              "      <td>0</td>\n",
              "      <td>0.006629</td>\n",
              "      <td>0</td>\n",
              "      <td>180000.0</td>\n",
              "      <td>0.546023</td>\n",
              "      <td>0</td>\n",
              "      <td>-2873.0</td>\n",
              "      <td>1</td>\n",
              "      <td>2</td>\n",
              "      <td>0.0</td>\n",
              "      <td>-8486</td>\n",
              "      <td>0</td>\n",
              "      <td>0.0</td>\n",
              "      <td>0</td>\n",
              "      <td>0.9821</td>\n",
              "      <td>0</td>\n",
              "      <td>0.0</td>\n",
              "      <td>-695.0</td>\n",
              "      <td>0.0691</td>\n",
              "      <td>1</td>\n",
              "      <td>0</td>\n",
              "      <td>0</td>\n",
              "      <td>1</td>\n",
              "      <td>0</td>\n",
              "      <td>0</td>\n",
              "      <td>1.0</td>\n",
              "      <td>-852</td>\n",
              "      <td>3</td>\n",
              "      <td>0</td>\n",
              "      <td>0</td>\n",
              "    </tr>\n",
              "  </tbody>\n",
              "</table>\n",
              "</div>\n",
              "      <button class=\"colab-df-convert\" onclick=\"convertToInteractive('df-16fdec11-2bf4-4491-ab09-163b922e8497')\"\n",
              "              title=\"Convert this dataframe to an interactive table.\"\n",
              "              style=\"display:none;\">\n",
              "        \n",
              "  <svg xmlns=\"http://www.w3.org/2000/svg\" height=\"24px\"viewBox=\"0 0 24 24\"\n",
              "       width=\"24px\">\n",
              "    <path d=\"M0 0h24v24H0V0z\" fill=\"none\"/>\n",
              "    <path d=\"M18.56 5.44l.94 2.06.94-2.06 2.06-.94-2.06-.94-.94-2.06-.94 2.06-2.06.94zm-11 1L8.5 8.5l.94-2.06 2.06-.94-2.06-.94L8.5 2.5l-.94 2.06-2.06.94zm10 10l.94 2.06.94-2.06 2.06-.94-2.06-.94-.94-2.06-.94 2.06-2.06.94z\"/><path d=\"M17.41 7.96l-1.37-1.37c-.4-.4-.92-.59-1.43-.59-.52 0-1.04.2-1.43.59L10.3 9.45l-7.72 7.72c-.78.78-.78 2.05 0 2.83L4 21.41c.39.39.9.59 1.41.59.51 0 1.02-.2 1.41-.59l7.78-7.78 2.81-2.81c.8-.78.8-2.07 0-2.86zM5.41 20L4 18.59l7.72-7.72 1.47 1.35L5.41 20z\"/>\n",
              "  </svg>\n",
              "      </button>\n",
              "      \n",
              "  <style>\n",
              "    .colab-df-container {\n",
              "      display:flex;\n",
              "      flex-wrap:wrap;\n",
              "      gap: 12px;\n",
              "    }\n",
              "\n",
              "    .colab-df-convert {\n",
              "      background-color: #E8F0FE;\n",
              "      border: none;\n",
              "      border-radius: 50%;\n",
              "      cursor: pointer;\n",
              "      display: none;\n",
              "      fill: #1967D2;\n",
              "      height: 32px;\n",
              "      padding: 0 0 0 0;\n",
              "      width: 32px;\n",
              "    }\n",
              "\n",
              "    .colab-df-convert:hover {\n",
              "      background-color: #E2EBFA;\n",
              "      box-shadow: 0px 1px 2px rgba(60, 64, 67, 0.3), 0px 1px 3px 1px rgba(60, 64, 67, 0.15);\n",
              "      fill: #174EA6;\n",
              "    }\n",
              "\n",
              "    [theme=dark] .colab-df-convert {\n",
              "      background-color: #3B4455;\n",
              "      fill: #D2E3FC;\n",
              "    }\n",
              "\n",
              "    [theme=dark] .colab-df-convert:hover {\n",
              "      background-color: #434B5C;\n",
              "      box-shadow: 0px 1px 3px 1px rgba(0, 0, 0, 0.15);\n",
              "      filter: drop-shadow(0px 1px 2px rgba(0, 0, 0, 0.3));\n",
              "      fill: #FFFFFF;\n",
              "    }\n",
              "  </style>\n",
              "\n",
              "      <script>\n",
              "        const buttonEl =\n",
              "          document.querySelector('#df-16fdec11-2bf4-4491-ab09-163b922e8497 button.colab-df-convert');\n",
              "        buttonEl.style.display =\n",
              "          google.colab.kernel.accessAllowed ? 'block' : 'none';\n",
              "\n",
              "        async function convertToInteractive(key) {\n",
              "          const element = document.querySelector('#df-16fdec11-2bf4-4491-ab09-163b922e8497');\n",
              "          const dataTable =\n",
              "            await google.colab.kernel.invokeFunction('convertToInteractive',\n",
              "                                                     [key], {});\n",
              "          if (!dataTable) return;\n",
              "\n",
              "          const docLinkHtml = 'Like what you see? Visit the ' +\n",
              "            '<a target=\"_blank\" href=https://colab.research.google.com/notebooks/data_table.ipynb>data table notebook</a>'\n",
              "            + ' to learn more about interactive tables.';\n",
              "          element.innerHTML = '';\n",
              "          dataTable['output_type'] = 'display_data';\n",
              "          await google.colab.output.renderOutput(dataTable, element);\n",
              "          const docLink = document.createElement('div');\n",
              "          docLink.innerHTML = docLinkHtml;\n",
              "          element.appendChild(docLink);\n",
              "        }\n",
              "      </script>\n",
              "    </div>\n",
              "  </div>\n",
              "  "
            ]
          },
          "metadata": {},
          "execution_count": 111
        }
      ]
    },
    {
      "cell_type": "code",
      "source": [
        "df = df.drop(['Column_91'], axis=1)"
      ],
      "metadata": {
        "id": "1530tSwNBI-V"
      },
      "execution_count": null,
      "outputs": []
    },
    {
      "cell_type": "code",
      "source": [
        "column_to_modify = ['Column_35', 'Column_70', 'Column_84']\n",
        "\n",
        "# Convert values greater than 1 to 1\n",
        "df[column_to_modify] = np.where(df[column_to_modify] > 1, 1, df[column_to_modify])"
      ],
      "metadata": {
        "id": "U_mVh3-tByoi"
      },
      "execution_count": null,
      "outputs": []
    },
    {
      "cell_type": "code",
      "source": [
        "for col in categorical_feats:\n",
        "    if len(df[col].unique()) == 2:\n",
        "        categorical.remove(col)\n",
        "        binary.append(col)"
      ],
      "metadata": {
        "id": "hxqV-XLJCITN"
      },
      "execution_count": null,
      "outputs": []
    },
    {
      "cell_type": "code",
      "source": [
        "df['Column_35'].unique()"
      ],
      "metadata": {
        "colab": {
          "base_uri": "https://localhost:8080/"
        },
        "id": "sWbxF-5touFH",
        "outputId": "d5367c2f-95f4-40b0-d9f3-094618702077"
      },
      "execution_count": null,
      "outputs": [
        {
          "output_type": "execute_result",
          "data": {
            "text/plain": [
              "array([0., 1.])"
            ]
          },
          "metadata": {},
          "execution_count": 76
        }
      ]
    },
    {
      "cell_type": "code",
      "source": [
        "df.shape"
      ],
      "metadata": {
        "colab": {
          "base_uri": "https://localhost:8080/"
        },
        "id": "b-52sPUZ8-EQ",
        "outputId": "bda4a6e7-79b1-4e4c-d1be-3a339a7d302e"
      },
      "execution_count": null,
      "outputs": [
        {
          "output_type": "execute_result",
          "data": {
            "text/plain": [
              "(246008, 70)"
            ]
          },
          "metadata": {},
          "execution_count": 173
        }
      ]
    },
    {
      "cell_type": "code",
      "source": [
        "df['Column_84'].value_counts().sort_index()"
      ],
      "metadata": {
        "colab": {
          "base_uri": "https://localhost:8080/"
        },
        "id": "E876gLWis8uG",
        "outputId": "6a9fa802-b81e-4b91-9204-799e6463679d"
      },
      "execution_count": null,
      "outputs": [
        {
          "output_type": "execute_result",
          "data": {
            "text/plain": [
              "0.0    239212\n",
              "1.0      6796\n",
              "Name: Column_84, dtype: int64"
            ]
          },
          "metadata": {},
          "execution_count": 77
        }
      ]
    },
    {
      "cell_type": "code",
      "source": [
        "df.shape"
      ],
      "metadata": {
        "colab": {
          "base_uri": "https://localhost:8080/"
        },
        "id": "mAZ94xkxDIkR",
        "outputId": "4e96211e-c1cd-49aa-995a-2dda8391b8c5"
      },
      "execution_count": null,
      "outputs": [
        {
          "output_type": "execute_result",
          "data": {
            "text/plain": [
              "(246008, 45)"
            ]
          },
          "metadata": {},
          "execution_count": 86
        }
      ]
    },
    {
      "cell_type": "code",
      "source": [
        "df.to_csv('/content/drive/MyDrive/MIS220/preprocessed_data123.csv', index=False)\n"
      ],
      "metadata": {
        "id": "XbYYQs8IL_6r"
      },
      "execution_count": null,
      "outputs": []
    },
    {
      "cell_type": "code",
      "source": [
        "from sklearn.model_selection import train_test_split\n",
        "from sklearn.linear_model import LogisticRegression\n",
        "from sklearn.metrics import accuracy_score"
      ],
      "metadata": {
        "id": "aD3INJMPPJ_E"
      },
      "execution_count": null,
      "outputs": []
    },
    {
      "cell_type": "code",
      "source": [
        "X = df.drop('Column_122', axis=1)\n",
        "y = df['Column_122']\n",
        "\n",
        "# Split the data into training and testing sets\n",
        "X_train, X_test, y_train, y_test = train_test_split(X, y, test_size=0.9, random_state=42)\n",
        "\n",
        "# Create a logistic regression model\n",
        "model = LogisticRegression()\n",
        "\n",
        "# Train the model\n",
        "model.fit(X_train, y_train)\n",
        "\n",
        "# Make predictions on the testing data\n",
        "y_pred = model.predict(X_test)\n",
        "\n",
        "# Evaluate the model's accuracy\n",
        "accuracy = accuracy_score(y_test, y_pred)\n",
        "print('Accuracy:', accuracy)"
      ],
      "metadata": {
        "colab": {
          "base_uri": "https://localhost:8080/"
        },
        "id": "azTyl35WO4G5",
        "outputId": "a4f426b2-bc41-4ccd-aa65-0d03a12526b7"
      },
      "execution_count": null,
      "outputs": [
        {
          "output_type": "stream",
          "name": "stderr",
          "text": [
            "/usr/local/lib/python3.10/dist-packages/sklearn/linear_model/_logistic.py:458: ConvergenceWarning: lbfgs failed to converge (status=1):\n",
            "STOP: TOTAL NO. of ITERATIONS REACHED LIMIT.\n",
            "\n",
            "Increase the number of iterations (max_iter) or scale the data as shown in:\n",
            "    https://scikit-learn.org/stable/modules/preprocessing.html\n",
            "Please also refer to the documentation for alternative solver options:\n",
            "    https://scikit-learn.org/stable/modules/linear_model.html#logistic-regression\n",
            "  n_iter_i = _check_optimize_result(\n"
          ]
        },
        {
          "output_type": "stream",
          "name": "stdout",
          "text": [
            "Accuracy: 0.9193931565255095\n"
          ]
        }
      ]
    },
    {
      "cell_type": "code",
      "source": [],
      "metadata": {
        "id": "S5xr05yAN90O"
      },
      "execution_count": null,
      "outputs": []
    },
    {
      "cell_type": "code",
      "source": [
        "df = pd.read_csv('/content/drive/MyDrive/MIS220/preprocessed_data.csv')"
      ],
      "metadata": {
        "id": "dqx3mFylLhEW"
      },
      "execution_count": null,
      "outputs": []
    },
    {
      "cell_type": "code",
      "source": [
        "dt = pd.read_csv('/content/drive/MyDrive/MIS220/pretest.csv')"
      ],
      "metadata": {
        "id": "KarR77g6QCby"
      },
      "execution_count": null,
      "outputs": []
    },
    {
      "cell_type": "code",
      "source": [
        "dt = dt.drop('Column_122', axis = 1)"
      ],
      "metadata": {
        "id": "kbMnKN54QVJw"
      },
      "execution_count": null,
      "outputs": []
    },
    {
      "cell_type": "code",
      "source": [
        "variable_counts = np.bincount(y_pred)\n",
        "\n",
        "# Print the variable counts\n",
        "for variable, count in enumerate(variable_counts):\n",
        "    print(f\"Variable {variable}: {count} occurrences\")"
      ],
      "metadata": {
        "colab": {
          "base_uri": "https://localhost:8080/"
        },
        "id": "cdr9BTtaNK3z",
        "outputId": "e74b0174-24b5-4a20-83e1-d50ba238c65e"
      },
      "execution_count": null,
      "outputs": [
        {
          "output_type": "stream",
          "name": "stdout",
          "text": [
            "Variable 0: 24601 occurrences\n"
          ]
        }
      ]
    },
    {
      "cell_type": "code",
      "source": [
        "from sklearn.preprocessing import StandardScaler\n",
        "from imblearn.over_sampling import RandomOverSampler"
      ],
      "metadata": {
        "id": "7g2k37VkPl_j"
      },
      "execution_count": null,
      "outputs": []
    },
    {
      "cell_type": "code",
      "source": [
        "train, valid, test = np.split(df.sample(frac=1), [int(0.6*len(df)), int(0.8*len(df))])"
      ],
      "metadata": {
        "id": "h9zYIvr3LxjK"
      },
      "execution_count": null,
      "outputs": []
    },
    {
      "cell_type": "code",
      "source": [
        "def scale_dataset(dataframe, oversample=False):\n",
        "  X = dataframe[dataframe.columns[:-1]].values\n",
        "  y = dataframe[dataframe.columns[-1]].values\n",
        "\n",
        "  scaler = StandardScaler()\n",
        "  X = scaler.fit_transform(X)\n",
        "\n",
        "  if oversample:\n",
        "    ros = RandomOverSampler()\n",
        "    X, y = ros.fit_resample(X, y)\n",
        "\n",
        "  data = np.hstack((X, np.reshape(y, (-1, 1))))\n",
        "\n",
        "  return data, X, y"
      ],
      "metadata": {
        "id": "Rnn9jqsXPXoJ"
      },
      "execution_count": null,
      "outputs": []
    },
    {
      "cell_type": "code",
      "source": [
        "train, X_train, y_train = scale_dataset(train, oversample=True)\n",
        "valid, X_valid, y_valid = scale_dataset(valid, oversample=False)\n",
        "test, X_test, y_test = scale_dataset(test, oversample=False)"
      ],
      "metadata": {
        "id": "uFyOATC-PhN_"
      },
      "execution_count": null,
      "outputs": []
    },
    {
      "cell_type": "code",
      "source": [
        "from sklearn.neighbors import KNeighborsClassifier\n",
        "from sklearn.metrics import classification_report"
      ],
      "metadata": {
        "id": "Wg7LifLVPohi"
      },
      "execution_count": null,
      "outputs": []
    },
    {
      "cell_type": "code",
      "source": [
        "knn_model = KNeighborsClassifier(n_neighbors=5)\n",
        "knn_model.fit(X_train, y_train)"
      ],
      "metadata": {
        "colab": {
          "base_uri": "https://localhost:8080/",
          "height": 74
        },
        "id": "gjzx9TvgPqby",
        "outputId": "e6b22326-0f3c-4a83-dfba-99a4e0663537"
      },
      "execution_count": null,
      "outputs": [
        {
          "output_type": "execute_result",
          "data": {
            "text/plain": [
              "KNeighborsClassifier()"
            ],
            "text/html": [
              "<style>#sk-container-id-1 {color: black;background-color: white;}#sk-container-id-1 pre{padding: 0;}#sk-container-id-1 div.sk-toggleable {background-color: white;}#sk-container-id-1 label.sk-toggleable__label {cursor: pointer;display: block;width: 100%;margin-bottom: 0;padding: 0.3em;box-sizing: border-box;text-align: center;}#sk-container-id-1 label.sk-toggleable__label-arrow:before {content: \"▸\";float: left;margin-right: 0.25em;color: #696969;}#sk-container-id-1 label.sk-toggleable__label-arrow:hover:before {color: black;}#sk-container-id-1 div.sk-estimator:hover label.sk-toggleable__label-arrow:before {color: black;}#sk-container-id-1 div.sk-toggleable__content {max-height: 0;max-width: 0;overflow: hidden;text-align: left;background-color: #f0f8ff;}#sk-container-id-1 div.sk-toggleable__content pre {margin: 0.2em;color: black;border-radius: 0.25em;background-color: #f0f8ff;}#sk-container-id-1 input.sk-toggleable__control:checked~div.sk-toggleable__content {max-height: 200px;max-width: 100%;overflow: auto;}#sk-container-id-1 input.sk-toggleable__control:checked~label.sk-toggleable__label-arrow:before {content: \"▾\";}#sk-container-id-1 div.sk-estimator input.sk-toggleable__control:checked~label.sk-toggleable__label {background-color: #d4ebff;}#sk-container-id-1 div.sk-label input.sk-toggleable__control:checked~label.sk-toggleable__label {background-color: #d4ebff;}#sk-container-id-1 input.sk-hidden--visually {border: 0;clip: rect(1px 1px 1px 1px);clip: rect(1px, 1px, 1px, 1px);height: 1px;margin: -1px;overflow: hidden;padding: 0;position: absolute;width: 1px;}#sk-container-id-1 div.sk-estimator {font-family: monospace;background-color: #f0f8ff;border: 1px dotted black;border-radius: 0.25em;box-sizing: border-box;margin-bottom: 0.5em;}#sk-container-id-1 div.sk-estimator:hover {background-color: #d4ebff;}#sk-container-id-1 div.sk-parallel-item::after {content: \"\";width: 100%;border-bottom: 1px solid gray;flex-grow: 1;}#sk-container-id-1 div.sk-label:hover label.sk-toggleable__label {background-color: #d4ebff;}#sk-container-id-1 div.sk-serial::before {content: \"\";position: absolute;border-left: 1px solid gray;box-sizing: border-box;top: 0;bottom: 0;left: 50%;z-index: 0;}#sk-container-id-1 div.sk-serial {display: flex;flex-direction: column;align-items: center;background-color: white;padding-right: 0.2em;padding-left: 0.2em;position: relative;}#sk-container-id-1 div.sk-item {position: relative;z-index: 1;}#sk-container-id-1 div.sk-parallel {display: flex;align-items: stretch;justify-content: center;background-color: white;position: relative;}#sk-container-id-1 div.sk-item::before, #sk-container-id-1 div.sk-parallel-item::before {content: \"\";position: absolute;border-left: 1px solid gray;box-sizing: border-box;top: 0;bottom: 0;left: 50%;z-index: -1;}#sk-container-id-1 div.sk-parallel-item {display: flex;flex-direction: column;z-index: 1;position: relative;background-color: white;}#sk-container-id-1 div.sk-parallel-item:first-child::after {align-self: flex-end;width: 50%;}#sk-container-id-1 div.sk-parallel-item:last-child::after {align-self: flex-start;width: 50%;}#sk-container-id-1 div.sk-parallel-item:only-child::after {width: 0;}#sk-container-id-1 div.sk-dashed-wrapped {border: 1px dashed gray;margin: 0 0.4em 0.5em 0.4em;box-sizing: border-box;padding-bottom: 0.4em;background-color: white;}#sk-container-id-1 div.sk-label label {font-family: monospace;font-weight: bold;display: inline-block;line-height: 1.2em;}#sk-container-id-1 div.sk-label-container {text-align: center;}#sk-container-id-1 div.sk-container {/* jupyter's `normalize.less` sets `[hidden] { display: none; }` but bootstrap.min.css set `[hidden] { display: none !important; }` so we also need the `!important` here to be able to override the default hidden behavior on the sphinx rendered scikit-learn.org. See: https://github.com/scikit-learn/scikit-learn/issues/21755 */display: inline-block !important;position: relative;}#sk-container-id-1 div.sk-text-repr-fallback {display: none;}</style><div id=\"sk-container-id-1\" class=\"sk-top-container\"><div class=\"sk-text-repr-fallback\"><pre>KNeighborsClassifier()</pre><b>In a Jupyter environment, please rerun this cell to show the HTML representation or trust the notebook. <br />On GitHub, the HTML representation is unable to render, please try loading this page with nbviewer.org.</b></div><div class=\"sk-container\" hidden><div class=\"sk-item\"><div class=\"sk-estimator sk-toggleable\"><input class=\"sk-toggleable__control sk-hidden--visually\" id=\"sk-estimator-id-1\" type=\"checkbox\" checked><label for=\"sk-estimator-id-1\" class=\"sk-toggleable__label sk-toggleable__label-arrow\">KNeighborsClassifier</label><div class=\"sk-toggleable__content\"><pre>KNeighborsClassifier()</pre></div></div></div></div></div>"
            ]
          },
          "metadata": {},
          "execution_count": 23
        }
      ]
    },
    {
      "cell_type": "code",
      "source": [
        "y_pred = knn_model.predict(dt)"
      ],
      "metadata": {
        "colab": {
          "base_uri": "https://localhost:8080/"
        },
        "id": "GjaLXDFXPrrr",
        "outputId": "295e5305-3cdf-46b6-ec31-31da6525e152"
      },
      "execution_count": null,
      "outputs": [
        {
          "output_type": "stream",
          "name": "stderr",
          "text": [
            "/usr/local/lib/python3.10/dist-packages/sklearn/base.py:432: UserWarning: X has feature names, but KNeighborsClassifier was fitted without feature names\n",
            "  warnings.warn(\n"
          ]
        }
      ]
    },
    {
      "cell_type": "code",
      "source": [
        "test_data = pd.read_csv('/content/drive/MyDrive/MIS220/pretest22_data.csv')\n",
        "\n",
        "# Preprocess the test data (if needed)\n",
        "# Ensure that the test data has the same preprocessing steps as the training data\n",
        "\n",
        "# Extract the features from the test data\n",
        "test_features = test_data.iloc[:, :-1]  # All columns except the last one\n",
        "\n",
        "# Use the trained model to predict the outcomes for the test data\n",
        "predicted_outcomes = model.predict(test_features)\n",
        "\n",
        "# Create a new DataFrame with the test data and predicted outcomes\n",
        "results = pd.DataFrame({'Column_122': test_data['Column_122'], 'Predicted_Outcome': predicted_outcomes})\n",
        "\n",
        "# Save the results to a new file\n",
        "results.to_csv('/content/drive/MyDrive/MIS220/pred33.csv', index=False)  # Adjust the filename as desired"
      ],
      "metadata": {
        "id": "hCoShSiziBzB"
      },
      "execution_count": null,
      "outputs": []
    },
    {
      "cell_type": "code",
      "source": [
        "variable_counts = np.bincount(y_pred)\n",
        "\n",
        "# Print the variable counts\n",
        "for variable, count in enumerate(variable_counts):\n",
        "    print(f\"Variable {variable}: {count} occurrences\")"
      ],
      "metadata": {
        "colab": {
          "base_uri": "https://localhost:8080/"
        },
        "id": "ljU7tTo0Q6G7",
        "outputId": "4bb282a6-4133-4d0b-f751-4599b20fb775"
      },
      "execution_count": null,
      "outputs": [
        {
          "output_type": "stream",
          "name": "stdout",
          "text": [
            "Variable 0: 46765 occurrences\n",
            "Variable 1: 2437 occurrences\n"
          ]
        }
      ]
    },
    {
      "cell_type": "code",
      "source": [
        "import pandas as pd\n",
        "from sklearn.model_selection import train_test_split\n",
        "from sklearn.ensemble import RandomForestClassifier\n",
        "from sklearn.metrics import accuracy_score\n",
        "\n",
        "# Load the preprocessed train dataset\n",
        "\n",
        "\n",
        "# Separate features (X) and target variable (y)\n",
        "X = df.iloc[:, :-1]  # All columns except the last one\n",
        "y = df.iloc[:, -1]   # Last column\n",
        "\n",
        "# Split the data into train and validation sets\n",
        "X_train, X_val, y_train, y_val = train_test_split(X, y, test_size=0.95, random_state=40)\n",
        "\n",
        "# Create a logistic regression model\n",
        "model = RandomForestClassifier()\n",
        "\n",
        "# Train the model on the training data\n",
        "model.fit(X_train, y_train)\n",
        "\n",
        "# Make predictions on the validation data\n",
        "y_pred = model.predict(X_val)\n",
        "\n",
        "# Evaluate the model's accuracy\n",
        "accuracy = accuracy_score(y_val, y_pred)\n",
        "print(\"Validation Accuracy:\", accuracy)"
      ],
      "metadata": {
        "colab": {
          "base_uri": "https://localhost:8080/"
        },
        "id": "M6x_tPbCSHa4",
        "outputId": "34abebc1-74a7-478b-ed77-577c85572036"
      },
      "execution_count": null,
      "outputs": [
        {
          "output_type": "stream",
          "name": "stdout",
          "text": [
            "Validation Accuracy: 0.9646524723158814\n"
          ]
        }
      ]
    },
    {
      "cell_type": "code",
      "source": [
        "import pandas as pd\n",
        "from sklearn.model_selection import train_test_split\n",
        "import xgboost as xgb\n",
        "from sklearn.metrics import accuracy_score\n",
        "\n",
        "\n",
        "\n",
        "# Separate features (X) and target variable (y)\n",
        "X = df.iloc[:, :-1]  # All columns except the last one\n",
        "y = df.iloc[:, -1]   # Last column\n",
        "\n",
        "# Split the data into train and validation sets\n",
        "X_train, X_val, y_train, y_val = train_test_split(X, y, test_size=0.951111, random_state=40)\n",
        "\n",
        "# Create an XGBoost classifier\n",
        "model = xgb.XGBClassifier()\n",
        "\n",
        "# Train the model on the training data\n",
        "model.fit(X_train, y_train)\n",
        "\n",
        "# Make predictions on the validation data\n",
        "y_pred = model.predict(X_val)\n",
        "\n",
        "# Evaluate the model's accuracy\n",
        "accuracy = accuracy_score(y_val, y_pred)\n",
        "print(\"Validation Accuracy:\", accuracy)"
      ],
      "metadata": {
        "colab": {
          "base_uri": "https://localhost:8080/"
        },
        "id": "pbDqftzfeJxG",
        "outputId": "90f27bfc-a855-4471-9e00-931b3e028dc7"
      },
      "execution_count": null,
      "outputs": [
        {
          "output_type": "stream",
          "name": "stdout",
          "text": [
            "Validation Accuracy: 0.968907731824379\n"
          ]
        }
      ]
    },
    {
      "cell_type": "code",
      "source": [
        "dt.head()"
      ],
      "metadata": {
        "colab": {
          "base_uri": "https://localhost:8080/",
          "height": 299
        },
        "id": "wWQN-GjTTwUc",
        "outputId": "2fc3b9ea-545a-4a3b-98e2-85cd9950e8bc"
      },
      "execution_count": null,
      "outputs": [
        {
          "output_type": "execute_result",
          "data": {
            "text/plain": [
              "   Column_2  Column_6  Column_7  Column_10  Column_13  Column_14  Column_17  \\\n",
              "0     -4930         0        11          2        1.0   315000.0          1   \n",
              "1     -1191         0        18          2        0.0   225000.0          6   \n",
              "2      -355         0        39          3        0.0   873000.0          6   \n",
              "3     -1366         0        11          2        0.0   279000.0          6   \n",
              "4      -451         0         5          2        1.0   252000.0          6   \n",
              "\n",
              "   Column_21  Column_25  Column_26  ...  Column_99  Column_104  Column_105  \\\n",
              "0          0          0   0.619621  ...          0           0           1   \n",
              "1          1          0   0.030108  ...          0           0           1   \n",
              "2          0          1   0.417593  ...          1           0           1   \n",
              "3          0          0   0.355126  ...          0           0           1   \n",
              "4          0          0   0.489540  ...          0           0           1   \n",
              "\n",
              "   Column_107  Column_109  Column_113  Column_114  Column_118  Column_121  \\\n",
              "0           0           0         6.0       -1259           1           0   \n",
              "1           0           0         3.0       -2474           0           0   \n",
              "2           0           0         1.0       -2289           3           0   \n",
              "3           0           0         1.0       -1040           0           0   \n",
              "4           0           0         0.0       -2261           1           0   \n",
              "\n",
              "   Column_122  \n",
              "0           1  \n",
              "1           2  \n",
              "2           3  \n",
              "3           4  \n",
              "4           5  \n",
              "\n",
              "[5 rows x 45 columns]"
            ],
            "text/html": [
              "\n",
              "  <div id=\"df-4360f859-b9d3-4fe5-a109-addf0931a666\">\n",
              "    <div class=\"colab-df-container\">\n",
              "      <div>\n",
              "<style scoped>\n",
              "    .dataframe tbody tr th:only-of-type {\n",
              "        vertical-align: middle;\n",
              "    }\n",
              "\n",
              "    .dataframe tbody tr th {\n",
              "        vertical-align: top;\n",
              "    }\n",
              "\n",
              "    .dataframe thead th {\n",
              "        text-align: right;\n",
              "    }\n",
              "</style>\n",
              "<table border=\"1\" class=\"dataframe\">\n",
              "  <thead>\n",
              "    <tr style=\"text-align: right;\">\n",
              "      <th></th>\n",
              "      <th>Column_2</th>\n",
              "      <th>Column_6</th>\n",
              "      <th>Column_7</th>\n",
              "      <th>Column_10</th>\n",
              "      <th>Column_13</th>\n",
              "      <th>Column_14</th>\n",
              "      <th>Column_17</th>\n",
              "      <th>Column_21</th>\n",
              "      <th>Column_25</th>\n",
              "      <th>Column_26</th>\n",
              "      <th>...</th>\n",
              "      <th>Column_99</th>\n",
              "      <th>Column_104</th>\n",
              "      <th>Column_105</th>\n",
              "      <th>Column_107</th>\n",
              "      <th>Column_109</th>\n",
              "      <th>Column_113</th>\n",
              "      <th>Column_114</th>\n",
              "      <th>Column_118</th>\n",
              "      <th>Column_121</th>\n",
              "      <th>Column_122</th>\n",
              "    </tr>\n",
              "  </thead>\n",
              "  <tbody>\n",
              "    <tr>\n",
              "      <th>0</th>\n",
              "      <td>-4930</td>\n",
              "      <td>0</td>\n",
              "      <td>11</td>\n",
              "      <td>2</td>\n",
              "      <td>1.0</td>\n",
              "      <td>315000.0</td>\n",
              "      <td>1</td>\n",
              "      <td>0</td>\n",
              "      <td>0</td>\n",
              "      <td>0.619621</td>\n",
              "      <td>...</td>\n",
              "      <td>0</td>\n",
              "      <td>0</td>\n",
              "      <td>1</td>\n",
              "      <td>0</td>\n",
              "      <td>0</td>\n",
              "      <td>6.0</td>\n",
              "      <td>-1259</td>\n",
              "      <td>1</td>\n",
              "      <td>0</td>\n",
              "      <td>1</td>\n",
              "    </tr>\n",
              "    <tr>\n",
              "      <th>1</th>\n",
              "      <td>-1191</td>\n",
              "      <td>0</td>\n",
              "      <td>18</td>\n",
              "      <td>2</td>\n",
              "      <td>0.0</td>\n",
              "      <td>225000.0</td>\n",
              "      <td>6</td>\n",
              "      <td>1</td>\n",
              "      <td>0</td>\n",
              "      <td>0.030108</td>\n",
              "      <td>...</td>\n",
              "      <td>0</td>\n",
              "      <td>0</td>\n",
              "      <td>1</td>\n",
              "      <td>0</td>\n",
              "      <td>0</td>\n",
              "      <td>3.0</td>\n",
              "      <td>-2474</td>\n",
              "      <td>0</td>\n",
              "      <td>0</td>\n",
              "      <td>2</td>\n",
              "    </tr>\n",
              "    <tr>\n",
              "      <th>2</th>\n",
              "      <td>-355</td>\n",
              "      <td>0</td>\n",
              "      <td>39</td>\n",
              "      <td>3</td>\n",
              "      <td>0.0</td>\n",
              "      <td>873000.0</td>\n",
              "      <td>6</td>\n",
              "      <td>0</td>\n",
              "      <td>1</td>\n",
              "      <td>0.417593</td>\n",
              "      <td>...</td>\n",
              "      <td>1</td>\n",
              "      <td>0</td>\n",
              "      <td>1</td>\n",
              "      <td>0</td>\n",
              "      <td>0</td>\n",
              "      <td>1.0</td>\n",
              "      <td>-2289</td>\n",
              "      <td>3</td>\n",
              "      <td>0</td>\n",
              "      <td>3</td>\n",
              "    </tr>\n",
              "    <tr>\n",
              "      <th>3</th>\n",
              "      <td>-1366</td>\n",
              "      <td>0</td>\n",
              "      <td>11</td>\n",
              "      <td>2</td>\n",
              "      <td>0.0</td>\n",
              "      <td>279000.0</td>\n",
              "      <td>6</td>\n",
              "      <td>0</td>\n",
              "      <td>0</td>\n",
              "      <td>0.355126</td>\n",
              "      <td>...</td>\n",
              "      <td>0</td>\n",
              "      <td>0</td>\n",
              "      <td>1</td>\n",
              "      <td>0</td>\n",
              "      <td>0</td>\n",
              "      <td>1.0</td>\n",
              "      <td>-1040</td>\n",
              "      <td>0</td>\n",
              "      <td>0</td>\n",
              "      <td>4</td>\n",
              "    </tr>\n",
              "    <tr>\n",
              "      <th>4</th>\n",
              "      <td>-451</td>\n",
              "      <td>0</td>\n",
              "      <td>5</td>\n",
              "      <td>2</td>\n",
              "      <td>1.0</td>\n",
              "      <td>252000.0</td>\n",
              "      <td>6</td>\n",
              "      <td>0</td>\n",
              "      <td>0</td>\n",
              "      <td>0.489540</td>\n",
              "      <td>...</td>\n",
              "      <td>0</td>\n",
              "      <td>0</td>\n",
              "      <td>1</td>\n",
              "      <td>0</td>\n",
              "      <td>0</td>\n",
              "      <td>0.0</td>\n",
              "      <td>-2261</td>\n",
              "      <td>1</td>\n",
              "      <td>0</td>\n",
              "      <td>5</td>\n",
              "    </tr>\n",
              "  </tbody>\n",
              "</table>\n",
              "<p>5 rows × 45 columns</p>\n",
              "</div>\n",
              "      <button class=\"colab-df-convert\" onclick=\"convertToInteractive('df-4360f859-b9d3-4fe5-a109-addf0931a666')\"\n",
              "              title=\"Convert this dataframe to an interactive table.\"\n",
              "              style=\"display:none;\">\n",
              "        \n",
              "  <svg xmlns=\"http://www.w3.org/2000/svg\" height=\"24px\"viewBox=\"0 0 24 24\"\n",
              "       width=\"24px\">\n",
              "    <path d=\"M0 0h24v24H0V0z\" fill=\"none\"/>\n",
              "    <path d=\"M18.56 5.44l.94 2.06.94-2.06 2.06-.94-2.06-.94-.94-2.06-.94 2.06-2.06.94zm-11 1L8.5 8.5l.94-2.06 2.06-.94-2.06-.94L8.5 2.5l-.94 2.06-2.06.94zm10 10l.94 2.06.94-2.06 2.06-.94-2.06-.94-.94-2.06-.94 2.06-2.06.94z\"/><path d=\"M17.41 7.96l-1.37-1.37c-.4-.4-.92-.59-1.43-.59-.52 0-1.04.2-1.43.59L10.3 9.45l-7.72 7.72c-.78.78-.78 2.05 0 2.83L4 21.41c.39.39.9.59 1.41.59.51 0 1.02-.2 1.41-.59l7.78-7.78 2.81-2.81c.8-.78.8-2.07 0-2.86zM5.41 20L4 18.59l7.72-7.72 1.47 1.35L5.41 20z\"/>\n",
              "  </svg>\n",
              "      </button>\n",
              "      \n",
              "  <style>\n",
              "    .colab-df-container {\n",
              "      display:flex;\n",
              "      flex-wrap:wrap;\n",
              "      gap: 12px;\n",
              "    }\n",
              "\n",
              "    .colab-df-convert {\n",
              "      background-color: #E8F0FE;\n",
              "      border: none;\n",
              "      border-radius: 50%;\n",
              "      cursor: pointer;\n",
              "      display: none;\n",
              "      fill: #1967D2;\n",
              "      height: 32px;\n",
              "      padding: 0 0 0 0;\n",
              "      width: 32px;\n",
              "    }\n",
              "\n",
              "    .colab-df-convert:hover {\n",
              "      background-color: #E2EBFA;\n",
              "      box-shadow: 0px 1px 2px rgba(60, 64, 67, 0.3), 0px 1px 3px 1px rgba(60, 64, 67, 0.15);\n",
              "      fill: #174EA6;\n",
              "    }\n",
              "\n",
              "    [theme=dark] .colab-df-convert {\n",
              "      background-color: #3B4455;\n",
              "      fill: #D2E3FC;\n",
              "    }\n",
              "\n",
              "    [theme=dark] .colab-df-convert:hover {\n",
              "      background-color: #434B5C;\n",
              "      box-shadow: 0px 1px 3px 1px rgba(0, 0, 0, 0.15);\n",
              "      filter: drop-shadow(0px 1px 2px rgba(0, 0, 0, 0.3));\n",
              "      fill: #FFFFFF;\n",
              "    }\n",
              "  </style>\n",
              "\n",
              "      <script>\n",
              "        const buttonEl =\n",
              "          document.querySelector('#df-4360f859-b9d3-4fe5-a109-addf0931a666 button.colab-df-convert');\n",
              "        buttonEl.style.display =\n",
              "          google.colab.kernel.accessAllowed ? 'block' : 'none';\n",
              "\n",
              "        async function convertToInteractive(key) {\n",
              "          const element = document.querySelector('#df-4360f859-b9d3-4fe5-a109-addf0931a666');\n",
              "          const dataTable =\n",
              "            await google.colab.kernel.invokeFunction('convertToInteractive',\n",
              "                                                     [key], {});\n",
              "          if (!dataTable) return;\n",
              "\n",
              "          const docLinkHtml = 'Like what you see? Visit the ' +\n",
              "            '<a target=\"_blank\" href=https://colab.research.google.com/notebooks/data_table.ipynb>data table notebook</a>'\n",
              "            + ' to learn more about interactive tables.';\n",
              "          element.innerHTML = '';\n",
              "          dataTable['output_type'] = 'display_data';\n",
              "          await google.colab.output.renderOutput(dataTable, element);\n",
              "          const docLink = document.createElement('div');\n",
              "          docLink.innerHTML = docLinkHtml;\n",
              "          element.appendChild(docLink);\n",
              "        }\n",
              "      </script>\n",
              "    </div>\n",
              "  </div>\n",
              "  "
            ]
          },
          "metadata": {},
          "execution_count": 44
        }
      ]
    },
    {
      "cell_type": "code",
      "source": [
        "from sklearn.naive_bayes import GaussianNB"
      ],
      "metadata": {
        "id": "TNJqt9C4Pztb"
      },
      "execution_count": null,
      "outputs": []
    },
    {
      "cell_type": "code",
      "source": [
        "nb_model = GaussianNB()\n",
        "nb_model = nb_model.fit(X_train, y_train)"
      ],
      "metadata": {
        "id": "Mxcbd_4dP1PK"
      },
      "execution_count": null,
      "outputs": []
    },
    {
      "cell_type": "code",
      "source": [
        "y_pred = nb_model.predict(X_test)\n",
        "print(classification_report(y_test, y_pred))"
      ],
      "metadata": {
        "id": "479lkR3yP2pR"
      },
      "execution_count": null,
      "outputs": []
    },
    {
      "cell_type": "code",
      "source": [
        "from sklearn.linear_model import LogisticRegression"
      ],
      "metadata": {
        "id": "Q6Xz_SP-P4gK"
      },
      "execution_count": null,
      "outputs": []
    },
    {
      "cell_type": "code",
      "source": [
        "lg_model = LogisticRegression()\n",
        "lg_model = lg_model.fit(X_train, y_train)"
      ],
      "metadata": {
        "id": "2ldTehZHP5wp"
      },
      "execution_count": null,
      "outputs": []
    },
    {
      "cell_type": "code",
      "source": [
        "y_pred = lg_model.predict(X_test)\n",
        "print(classification_report(y_test, y_pred))"
      ],
      "metadata": {
        "id": "T2X7T1A7P7Jm"
      },
      "execution_count": null,
      "outputs": []
    },
    {
      "cell_type": "code",
      "source": [
        "dtt = pd.read_csv('/content/drive/MyDrive/MIS220/pred33.csv')"
      ],
      "metadata": {
        "id": "7V9gN8kdicRb"
      },
      "execution_count": null,
      "outputs": []
    },
    {
      "cell_type": "code",
      "source": [
        "dtt['Predicted_Outcome'].value_counts().sort_index()"
      ],
      "metadata": {
        "colab": {
          "base_uri": "https://localhost:8080/"
        },
        "id": "2miIGvPOif9S",
        "outputId": "36978249-7451-4cc5-cc45-e59157e893b3"
      },
      "execution_count": null,
      "outputs": [
        {
          "output_type": "execute_result",
          "data": {
            "text/plain": [
              "0    37335\n",
              "1    24167\n",
              "Name: Predicted_Outcome, dtype: int64"
            ]
          },
          "metadata": {},
          "execution_count": 185
        }
      ]
    },
    {
      "cell_type": "code",
      "source": [
        "dtt.head()"
      ],
      "metadata": {
        "colab": {
          "base_uri": "https://localhost:8080/",
          "height": 206
        },
        "id": "5UDXDI1Qja2v",
        "outputId": "a72b3095-8450-4660-c1c4-0b4ebbca3f85"
      },
      "execution_count": null,
      "outputs": [
        {
          "output_type": "execute_result",
          "data": {
            "text/plain": [
              "   Column_122  Predicted_Outcome\n",
              "0           1                  1\n",
              "1           2                  0\n",
              "2           3                  0\n",
              "3           4                  1\n",
              "4           5                  0"
            ],
            "text/html": [
              "\n",
              "  <div id=\"df-ffca8305-8137-4ec7-bae6-4a6db29d1f1b\">\n",
              "    <div class=\"colab-df-container\">\n",
              "      <div>\n",
              "<style scoped>\n",
              "    .dataframe tbody tr th:only-of-type {\n",
              "        vertical-align: middle;\n",
              "    }\n",
              "\n",
              "    .dataframe tbody tr th {\n",
              "        vertical-align: top;\n",
              "    }\n",
              "\n",
              "    .dataframe thead th {\n",
              "        text-align: right;\n",
              "    }\n",
              "</style>\n",
              "<table border=\"1\" class=\"dataframe\">\n",
              "  <thead>\n",
              "    <tr style=\"text-align: right;\">\n",
              "      <th></th>\n",
              "      <th>Column_122</th>\n",
              "      <th>Predicted_Outcome</th>\n",
              "    </tr>\n",
              "  </thead>\n",
              "  <tbody>\n",
              "    <tr>\n",
              "      <th>0</th>\n",
              "      <td>1</td>\n",
              "      <td>1</td>\n",
              "    </tr>\n",
              "    <tr>\n",
              "      <th>1</th>\n",
              "      <td>2</td>\n",
              "      <td>0</td>\n",
              "    </tr>\n",
              "    <tr>\n",
              "      <th>2</th>\n",
              "      <td>3</td>\n",
              "      <td>0</td>\n",
              "    </tr>\n",
              "    <tr>\n",
              "      <th>3</th>\n",
              "      <td>4</td>\n",
              "      <td>1</td>\n",
              "    </tr>\n",
              "    <tr>\n",
              "      <th>4</th>\n",
              "      <td>5</td>\n",
              "      <td>0</td>\n",
              "    </tr>\n",
              "  </tbody>\n",
              "</table>\n",
              "</div>\n",
              "      <button class=\"colab-df-convert\" onclick=\"convertToInteractive('df-ffca8305-8137-4ec7-bae6-4a6db29d1f1b')\"\n",
              "              title=\"Convert this dataframe to an interactive table.\"\n",
              "              style=\"display:none;\">\n",
              "        \n",
              "  <svg xmlns=\"http://www.w3.org/2000/svg\" height=\"24px\"viewBox=\"0 0 24 24\"\n",
              "       width=\"24px\">\n",
              "    <path d=\"M0 0h24v24H0V0z\" fill=\"none\"/>\n",
              "    <path d=\"M18.56 5.44l.94 2.06.94-2.06 2.06-.94-2.06-.94-.94-2.06-.94 2.06-2.06.94zm-11 1L8.5 8.5l.94-2.06 2.06-.94-2.06-.94L8.5 2.5l-.94 2.06-2.06.94zm10 10l.94 2.06.94-2.06 2.06-.94-2.06-.94-.94-2.06-.94 2.06-2.06.94z\"/><path d=\"M17.41 7.96l-1.37-1.37c-.4-.4-.92-.59-1.43-.59-.52 0-1.04.2-1.43.59L10.3 9.45l-7.72 7.72c-.78.78-.78 2.05 0 2.83L4 21.41c.39.39.9.59 1.41.59.51 0 1.02-.2 1.41-.59l7.78-7.78 2.81-2.81c.8-.78.8-2.07 0-2.86zM5.41 20L4 18.59l7.72-7.72 1.47 1.35L5.41 20z\"/>\n",
              "  </svg>\n",
              "      </button>\n",
              "      \n",
              "  <style>\n",
              "    .colab-df-container {\n",
              "      display:flex;\n",
              "      flex-wrap:wrap;\n",
              "      gap: 12px;\n",
              "    }\n",
              "\n",
              "    .colab-df-convert {\n",
              "      background-color: #E8F0FE;\n",
              "      border: none;\n",
              "      border-radius: 50%;\n",
              "      cursor: pointer;\n",
              "      display: none;\n",
              "      fill: #1967D2;\n",
              "      height: 32px;\n",
              "      padding: 0 0 0 0;\n",
              "      width: 32px;\n",
              "    }\n",
              "\n",
              "    .colab-df-convert:hover {\n",
              "      background-color: #E2EBFA;\n",
              "      box-shadow: 0px 1px 2px rgba(60, 64, 67, 0.3), 0px 1px 3px 1px rgba(60, 64, 67, 0.15);\n",
              "      fill: #174EA6;\n",
              "    }\n",
              "\n",
              "    [theme=dark] .colab-df-convert {\n",
              "      background-color: #3B4455;\n",
              "      fill: #D2E3FC;\n",
              "    }\n",
              "\n",
              "    [theme=dark] .colab-df-convert:hover {\n",
              "      background-color: #434B5C;\n",
              "      box-shadow: 0px 1px 3px 1px rgba(0, 0, 0, 0.15);\n",
              "      filter: drop-shadow(0px 1px 2px rgba(0, 0, 0, 0.3));\n",
              "      fill: #FFFFFF;\n",
              "    }\n",
              "  </style>\n",
              "\n",
              "      <script>\n",
              "        const buttonEl =\n",
              "          document.querySelector('#df-ffca8305-8137-4ec7-bae6-4a6db29d1f1b button.colab-df-convert');\n",
              "        buttonEl.style.display =\n",
              "          google.colab.kernel.accessAllowed ? 'block' : 'none';\n",
              "\n",
              "        async function convertToInteractive(key) {\n",
              "          const element = document.querySelector('#df-ffca8305-8137-4ec7-bae6-4a6db29d1f1b');\n",
              "          const dataTable =\n",
              "            await google.colab.kernel.invokeFunction('convertToInteractive',\n",
              "                                                     [key], {});\n",
              "          if (!dataTable) return;\n",
              "\n",
              "          const docLinkHtml = 'Like what you see? Visit the ' +\n",
              "            '<a target=\"_blank\" href=https://colab.research.google.com/notebooks/data_table.ipynb>data table notebook</a>'\n",
              "            + ' to learn more about interactive tables.';\n",
              "          element.innerHTML = '';\n",
              "          dataTable['output_type'] = 'display_data';\n",
              "          await google.colab.output.renderOutput(dataTable, element);\n",
              "          const docLink = document.createElement('div');\n",
              "          docLink.innerHTML = docLinkHtml;\n",
              "          element.appendChild(docLink);\n",
              "        }\n",
              "      </script>\n",
              "    </div>\n",
              "  </div>\n",
              "  "
            ]
          },
          "metadata": {},
          "execution_count": 186
        }
      ]
    },
    {
      "cell_type": "code",
      "source": [
        "dtt.rename(columns={'Column_122': 'kaggle_id'}, inplace=True)"
      ],
      "metadata": {
        "id": "i1uyXH_CjyLT"
      },
      "execution_count": null,
      "outputs": []
    },
    {
      "cell_type": "code",
      "source": [
        "dtt.rename(columns={'Predicted_Outcome': 'target'}, inplace=True)"
      ],
      "metadata": {
        "id": "YW0VmxR6noTh"
      },
      "execution_count": null,
      "outputs": []
    },
    {
      "cell_type": "code",
      "source": [
        "dtt.to_csv('/content/drive/MyDrive/MIS220/predict12.csv', index=False)\n"
      ],
      "metadata": {
        "id": "W5JpkFyVkH7T"
      },
      "execution_count": null,
      "outputs": []
    },
    {
      "cell_type": "code",
      "source": [
        "dcf = pd.read_csv('/content/drive/MyDrive/MIS220/predict6.csv')"
      ],
      "metadata": {
        "id": "tSmgu1cl-SXQ"
      },
      "execution_count": null,
      "outputs": []
    },
    {
      "cell_type": "code",
      "source": [
        "dcf['target'].value_counts().sort_index()"
      ],
      "metadata": {
        "colab": {
          "base_uri": "https://localhost:8080/"
        },
        "id": "Bogs_NIm-Xsd",
        "outputId": "1bfd44bb-7aa3-4212-e519-786adfc2f4a9"
      },
      "execution_count": null,
      "outputs": [
        {
          "output_type": "execute_result",
          "data": {
            "text/plain": [
              "0    45197\n",
              "1    16305\n",
              "Name: target, dtype: int64"
            ]
          },
          "metadata": {},
          "execution_count": 4
        }
      ]
    }
  ]
}